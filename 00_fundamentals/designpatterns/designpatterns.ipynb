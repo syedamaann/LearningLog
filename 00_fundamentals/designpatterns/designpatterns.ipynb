{
  "nbformat": 4,
  "nbformat_minor": 0,
  "metadata": {
    "colab": {
      "provenance": [],
      "authorship_tag": "ABX9TyM+pR8xlO9sh6ErQGfmabH+",
      "include_colab_link": true
    },
    "kernelspec": {
      "name": "python3",
      "display_name": "Python 3"
    },
    "language_info": {
      "name": "python"
    }
  },
  "cells": [
    {
      "cell_type": "markdown",
      "metadata": {
        "id": "view-in-github",
        "colab_type": "text"
      },
      "source": [
        "<a href=\"https://colab.research.google.com/github/syedamaann/LearningLog/blob/main/00_fundamentals/designpatterns/designpatterns.ipynb\" target=\"_parent\"><img src=\"https://colab.research.google.com/assets/colab-badge.svg\" alt=\"Open In Colab\"/></a>"
      ]
    },
    {
      "cell_type": "markdown",
      "source": [
        "# strategy pattern\n",
        "\n",
        "quick revision:\n",
        "- Take what varies in a system and encapsulate it.\n",
        "- Libraries and frameworks often use design patterns in their implementations.\n",
        "- Understanding design patterns helps in quickly understanding APIs structured around them.\n",
        "- Design patterns don’t go directly into code but first into your mind; once you’ve learned them, apply them to new designs or rework old code when it becomes inflexible.\n",
        "- The Strategy Pattern is used to implement various behaviors, such as duck behavior, encapsulating them into separate classes that can be expanded or changed, even at runtime.\n",
        "- Think at the pattern level, not just at the object level.\n",
        "- The Strategy Pattern defines a family of algorithms, encapsulates each one, and makes them interchangeable, allowing the algorithm to vary independently of the client using it.\n",
        "- Pay attention to class relationships:\n",
        "  - IS-A: Refers to inheritance (e.g., MallardDuck IS-A Duck).\n",
        "  - HAS-A: Refers to composition (e.g., a duck HAS-A FlyBehavior and QuackBehavior).\n",
        "  - IMPLEMENTS: Refers to the relationship between a class and an interface (e.g., FlyWithWings IMPLEMENTS FlyBehavior).\n",
        "- It’s often better for a class to have behavior rather than inherit it—this is called composition.\n",
        "- Encapsulating what varies reduces unintended consequences from code changes and increases flexibility.\n",
        "- Separate code that changes frequently from code that remains stable; this improves maintainability and flexibility.\n",
        "- Load your brain with design patterns so you can recognize when to apply them in your designs and existing applications.\n"
      ],
      "metadata": {
        "id": "18XM77fy_qBV"
      }
    },
    {
      "cell_type": "code",
      "source": [
        "class Flytype:\n",
        "  def fly(self):\n",
        "    pass\n",
        "\n",
        "class Quaktype:\n",
        "  def quack(self):\n",
        "    pass\n",
        "\n",
        "class Duck:\n",
        "  def __init__(self, flytype: Flytype, quaktype: Quaktype) -> None:\n",
        "    self.flytype = flytype\n",
        "    self.quaktype = quaktype\n",
        "\n",
        "  def setflytype(self, flytype):\n",
        "    self.flytype = flytype\n",
        "\n",
        "  def setquaktype(self, quaktype):\n",
        "    self.quaktype = quaktype\n",
        "\n",
        "  def fly(self):\n",
        "    self.flytype.fly()\n",
        "\n",
        "  def quack(self):\n",
        "    self.quaktype.quack()\n",
        "\n",
        "class Flywithwings(Flytype):\n",
        "  def fly(self):\n",
        "    print(\"i can fly with wings\")\n",
        "\n",
        "class Nofly(Flytype):\n",
        "  def fly(self):\n",
        "    print(\"i can't fly\")\n",
        "\n",
        "class Quaksloud(Quaktype):\n",
        "  def quack(self):\n",
        "    print(\"i can quack loud\")\n",
        "\n",
        "class Quackquiet(Quaktype):\n",
        "  def quack(self):\n",
        "    print(\"i can quack quiet\")\n",
        "\n",
        "class Rocketpoweredflying(Flytype):\n",
        "  def fly(self):\n",
        "    print(\"i can fly with rocket power\")"
      ],
      "metadata": {
        "id": "pGLlWrGpj2-H"
      },
      "execution_count": 73,
      "outputs": []
    },
    {
      "cell_type": "code",
      "source": [
        "duck1 = Duck(Flywithwings(), Quaksloud())\n",
        "duck2 = Duck(Nofly(), Quackquiet())\n",
        "duck3 = Duck(Rocketpoweredflying(), Quaksloud())"
      ],
      "metadata": {
        "id": "kZSTL72_xie5"
      },
      "execution_count": 74,
      "outputs": []
    },
    {
      "cell_type": "code",
      "source": [
        "print(duck1.fly(), duck1.quack())"
      ],
      "metadata": {
        "colab": {
          "base_uri": "https://localhost:8080/"
        },
        "id": "9nZuwAokxmkB",
        "outputId": "846c8e47-1a6a-4c19-a7c5-f16ff06c902f"
      },
      "execution_count": 75,
      "outputs": [
        {
          "output_type": "stream",
          "name": "stdout",
          "text": [
            "i can fly with wings\n",
            "i can quack loud\n",
            "None None\n"
          ]
        }
      ]
    },
    {
      "cell_type": "code",
      "source": [
        "print(duck2.fly(), duck2.quack())"
      ],
      "metadata": {
        "colab": {
          "base_uri": "https://localhost:8080/"
        },
        "id": "4_LnpHu2x0DR",
        "outputId": "fccadda6-2fb5-490d-f61a-898dbbc9a9d8"
      },
      "execution_count": 76,
      "outputs": [
        {
          "output_type": "stream",
          "name": "stdout",
          "text": [
            "i can't fly\n",
            "i can quack quiet\n",
            "None None\n"
          ]
        }
      ]
    },
    {
      "cell_type": "code",
      "source": [
        "print(duck3.fly(), duck3.quack())"
      ],
      "metadata": {
        "colab": {
          "base_uri": "https://localhost:8080/"
        },
        "id": "dsMHKegWz53Q",
        "outputId": "723f3ea9-9051-4388-ad2c-75e90211849c"
      },
      "execution_count": 77,
      "outputs": [
        {
          "output_type": "stream",
          "name": "stdout",
          "text": [
            "i can fly with rocket power\n",
            "i can quack loud\n",
            "None None\n"
          ]
        }
      ]
    },
    {
      "cell_type": "code",
      "source": [
        "duck1.setflytype(Rocketpoweredflying())\n",
        "duck1.setquaktype(Quackquiet())\n",
        "print(duck1.fly(), duck1.quack())"
      ],
      "metadata": {
        "colab": {
          "base_uri": "https://localhost:8080/"
        },
        "id": "FcuWYJSD3Bki",
        "outputId": "cb5e59c5-7c72-4a74-a8fc-6c0df7245609"
      },
      "execution_count": 79,
      "outputs": [
        {
          "output_type": "stream",
          "name": "stdout",
          "text": [
            "i can fly with rocket power\n",
            "i can quack quiet\n",
            "None None\n"
          ]
        }
      ]
    },
    {
      "cell_type": "markdown",
      "source": [
        "# observer pattern"
      ],
      "metadata": {
        "id": "Kur4erfEBLV9"
      }
    },
    {
      "cell_type": "code",
      "source": [],
      "metadata": {
        "id": "gaZfPRSABRf6"
      },
      "execution_count": null,
      "outputs": []
    }
  ]
}