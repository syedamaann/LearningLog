{
  "cells": [
    {
      "cell_type": "markdown",
      "metadata": {
        "colab_type": "text",
        "id": "view-in-github"
      },
      "source": [
        "<a href=\"https://colab.research.google.com/github/syedamaann/LearningLog/blob/main/00_fundamentals/designpatterns/designpatterns.ipynb\" target=\"_parent\"><img src=\"https://colab.research.google.com/assets/colab-badge.svg\" alt=\"Open In Colab\"/></a>"
      ]
    },
    {
      "cell_type": "markdown",
      "metadata": {
        "id": "18XM77fy_qBV"
      },
      "source": [
        "# strategy pattern\n",
        "\n",
        "quick revision:\n",
        "- Take what varies in a system and encapsulate it.\n",
        "- Libraries and frameworks often use design patterns in their implementations.\n",
        "- Understanding design patterns helps in quickly understanding APIs structured around them.\n",
        "- Design patterns don’t go directly into code but first into your mind; once you’ve learned them, apply them to new designs or rework old code when it becomes inflexible.\n",
        "- The Strategy Pattern is used to implement various behaviors, such as duck behavior, encapsulating them into separate classes that can be expanded or changed, even at runtime.\n",
        "- Think at the pattern level, not just at the object level.\n",
        "- The Strategy Pattern defines a family of algorithms, encapsulates each one, and makes them interchangeable, allowing the algorithm to vary independently of the client using it.\n",
        "- Pay attention to class relationships:\n",
        "  - IS-A: Refers to inheritance (e.g., MallardDuck IS-A Duck).\n",
        "  - HAS-A: Refers to composition (e.g., a duck HAS-A FlyBehavior and QuackBehavior).\n",
        "  - IMPLEMENTS: Refers to the relationship between a class and an interface (e.g., FlyWithWings IMPLEMENTS FlyBehavior).\n",
        "- It’s often better for a class to have behavior rather than inherit it—this is called composition.\n",
        "- Encapsulating what varies reduces unintended consequences from code changes and increases flexibility.\n",
        "- Separate code that changes frequently from code that remains stable; this improves maintainability and flexibility.\n",
        "- Load your brain with design patterns so you can recognize when to apply them in your designs and existing applications.\n",
        "- Use the Strategy Pattern when:\n",
        "  - There are multiple variations of a behavior.\n",
        "  - A behavior is likely to change frequently.\n",
        "  - You want to avoid many conditional statements.\n",
        "  - You need runtime behavior changes.\n",
        "  - Code duplication exists across classes.\n",
        "- Recognize the Strategy Pattern when:\n",
        "  - Behaviors are encapsulated in separate classes.\n",
        "  - There’s a context class that holds a reference to a behavior interface.\n",
        "  - There are setter methods for changing behavior at runtime.\n",
        "- Determine the need for the Strategy Pattern by asking:\n",
        "  - Do I have multiple ways to accomplish the same task?\n",
        "  - Am I using many conditional statements to select a behavior?\n",
        "  - Do I need to change behavior without affecting class structure?"
      ]
    },
    {
      "cell_type": "code",
      "execution_count": 73,
      "metadata": {
        "id": "pGLlWrGpj2-H"
      },
      "outputs": [],
      "source": [
        "class Flytype:\n",
        "  def fly(self):\n",
        "    pass\n",
        "\n",
        "class Quaktype:\n",
        "  def quack(self):\n",
        "    pass\n",
        "\n",
        "class Duck:\n",
        "  def __init__(self, flytype: Flytype, quaktype: Quaktype) -> None:\n",
        "    self.flytype = flytype\n",
        "    self.quaktype = quaktype\n",
        "\n",
        "  def setflytype(self, flytype):\n",
        "    self.flytype = flytype\n",
        "\n",
        "  def setquaktype(self, quaktype):\n",
        "    self.quaktype = quaktype\n",
        "\n",
        "  def fly(self):\n",
        "    self.flytype.fly()\n",
        "\n",
        "  def quack(self):\n",
        "    self.quaktype.quack()\n",
        "\n",
        "class Flywithwings(Flytype):\n",
        "  def fly(self):\n",
        "    print(\"i can fly with wings\")\n",
        "\n",
        "class Nofly(Flytype):\n",
        "  def fly(self):\n",
        "    print(\"i can't fly\")\n",
        "\n",
        "class Quaksloud(Quaktype):\n",
        "  def quack(self):\n",
        "    print(\"i can quack loud\")\n",
        "\n",
        "class Quackquiet(Quaktype):\n",
        "  def quack(self):\n",
        "    print(\"i can quack quiet\")\n",
        "\n",
        "class Rocketpoweredflying(Flytype):\n",
        "  def fly(self):\n",
        "    print(\"i can fly with rocket power\")"
      ]
    },
    {
      "cell_type": "code",
      "execution_count": 74,
      "metadata": {
        "id": "kZSTL72_xie5"
      },
      "outputs": [],
      "source": [
        "duck1 = Duck(Flywithwings(), Quaksloud())\n",
        "duck2 = Duck(Nofly(), Quackquiet())\n",
        "duck3 = Duck(Rocketpoweredflying(), Quaksloud())"
      ]
    },
    {
      "cell_type": "code",
      "execution_count": 75,
      "metadata": {
        "colab": {
          "base_uri": "https://localhost:8080/"
        },
        "id": "9nZuwAokxmkB",
        "outputId": "846c8e47-1a6a-4c19-a7c5-f16ff06c902f"
      },
      "outputs": [
        {
          "name": "stdout",
          "output_type": "stream",
          "text": [
            "i can fly with wings\n",
            "i can quack loud\n",
            "None None\n"
          ]
        }
      ],
      "source": [
        "print(duck1.fly(), duck1.quack())"
      ]
    },
    {
      "cell_type": "code",
      "execution_count": 76,
      "metadata": {
        "colab": {
          "base_uri": "https://localhost:8080/"
        },
        "id": "4_LnpHu2x0DR",
        "outputId": "fccadda6-2fb5-490d-f61a-898dbbc9a9d8"
      },
      "outputs": [
        {
          "name": "stdout",
          "output_type": "stream",
          "text": [
            "i can't fly\n",
            "i can quack quiet\n",
            "None None\n"
          ]
        }
      ],
      "source": [
        "print(duck2.fly(), duck2.quack())"
      ]
    },
    {
      "cell_type": "code",
      "execution_count": 77,
      "metadata": {
        "colab": {
          "base_uri": "https://localhost:8080/"
        },
        "id": "dsMHKegWz53Q",
        "outputId": "723f3ea9-9051-4388-ad2c-75e90211849c"
      },
      "outputs": [
        {
          "name": "stdout",
          "output_type": "stream",
          "text": [
            "i can fly with rocket power\n",
            "i can quack loud\n",
            "None None\n"
          ]
        }
      ],
      "source": [
        "print(duck3.fly(), duck3.quack())"
      ]
    },
    {
      "cell_type": "code",
      "execution_count": 79,
      "metadata": {
        "colab": {
          "base_uri": "https://localhost:8080/"
        },
        "id": "FcuWYJSD3Bki",
        "outputId": "cb5e59c5-7c72-4a74-a8fc-6c0df7245609"
      },
      "outputs": [
        {
          "name": "stdout",
          "output_type": "stream",
          "text": [
            "i can fly with rocket power\n",
            "i can quack quiet\n",
            "None None\n"
          ]
        }
      ],
      "source": [
        "duck1.setflytype(Rocketpoweredflying())\n",
        "duck1.setquaktype(Quackquiet())\n",
        "print(duck1.fly(), duck1.quack())"
      ]
    }
  ],
  "metadata": {
    "colab": {
      "authorship_tag": "ABX9TyM+pR8xlO9sh6ErQGfmabH+",
      "include_colab_link": true,
      "provenance": []
    },
    "kernelspec": {
      "display_name": "Python 3",
      "name": "python3"
    },
    "language_info": {
      "name": "python"
    }
  },
  "nbformat": 4,
  "nbformat_minor": 0
}
