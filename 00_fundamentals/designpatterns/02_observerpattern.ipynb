{
  "nbformat": 4,
  "nbformat_minor": 0,
  "metadata": {
    "colab": {
      "provenance": [],
      "authorship_tag": "ABX9TyOdpVf8y/zcv8XMI3uq5Tat",
      "include_colab_link": true
    },
    "kernelspec": {
      "name": "python3",
      "display_name": "Python 3"
    },
    "language_info": {
      "name": "python"
    }
  },
  "cells": [
    {
      "cell_type": "markdown",
      "metadata": {
        "id": "view-in-github",
        "colab_type": "text"
      },
      "source": [
        "<a href=\"https://colab.research.google.com/github/syedamaann/LearningLog/blob/main/00_fundamentals/designpatterns/observerpattern.ipynb\" target=\"_parent\"><img src=\"https://colab.research.google.com/assets/colab-badge.svg\" alt=\"Open In Colab\"/></a>"
      ]
    },
    {
      "cell_type": "markdown",
      "source": [
        "# strategy pattern\n",
        "\n",
        "quick revision:\n",
        "- Take what varies in a system and encapsulate it.\n",
        "- Libraries and frameworks often use design patterns in their implementations.\n",
        "- Understanding design patterns helps in quickly understanding APIs structured around them.\n",
        "- Design patterns don’t go directly into code but first into your mind; once you’ve learned them, apply them to new designs or rework old code when it becomes inflexible.\n",
        "- The Strategy Pattern is used to implement various behaviors, such as duck behavior, encapsulating them into separate classes that can be expanded or changed, even at runtime.\n",
        "- Think at the pattern level, not just at the object level.\n",
        "- The Strategy Pattern defines a family of algorithms, encapsulates each one, and makes them interchangeable, allowing the algorithm to vary independently of the client using it.\n",
        "- Pay attention to class relationships:\n",
        "  - IS-A: Refers to inheritance (e.g., MallardDuck IS-A Duck).\n",
        "  - HAS-A: Refers to composition (e.g., a duck HAS-A FlyBehavior and QuackBehavior).\n",
        "  - IMPLEMENTS: Refers to the relationship between a class and an interface (e.g., FlyWithWings IMPLEMENTS FlyBehavior).\n",
        "- It’s often better for a class to have behavior rather than inherit it—this is called composition.\n",
        "- Encapsulating what varies reduces unintended consequences from code changes and increases flexibility.\n",
        "- Separate code that changes frequently from code that remains stable; this improves maintainability and flexibility.\n",
        "- Load your brain with design patterns so you can recognize when to apply them in your designs and existing applications.\n",
        "- Use the Strategy Pattern when:\n",
        "  - There are multiple variations of a behavior.\n",
        "  - A behavior is likely to change frequently.\n",
        "  - You want to avoid many conditional statements.\n",
        "  - You need runtime behavior changes.\n",
        "  - Code duplication exists across classes.\n",
        "- Recognize the Strategy Pattern when:\n",
        "  - Behaviors are encapsulated in separate classes.\n",
        "  - There’s a context class that holds a reference to a behavior interface.\n",
        "  - There are setter methods for changing behavior at runtime.\n",
        "- Determine the need for the Strategy Pattern by asking:\n",
        "  - Do I have multiple ways to accomplish the same task?\n",
        "  - Am I using many conditional statements to select a behavior?\n",
        "  - Do I need to change behavior without affecting class structure?"
      ],
      "metadata": {
        "id": "18XM77fy_qBV"
      }
    },
    {
      "cell_type": "code",
      "source": [
        "class Flytype:\n",
        "  def fly(self):\n",
        "    pass\n",
        "\n",
        "class Quaktype:\n",
        "  def quack(self):\n",
        "    pass\n",
        "\n",
        "class Duck:\n",
        "  def __init__(self, flytype: Flytype, quaktype: Quaktype) -> None:\n",
        "    self.flytype = flytype\n",
        "    self.quaktype = quaktype\n",
        "\n",
        "  def setflytype(self, flytype):\n",
        "    self.flytype = flytype\n",
        "\n",
        "  def setquaktype(self, quaktype):\n",
        "    self.quaktype = quaktype\n",
        "\n",
        "  def fly(self):\n",
        "    self.flytype.fly()\n",
        "\n",
        "  def quack(self):\n",
        "    self.quaktype.quack()\n",
        "\n",
        "class Flywithwings(Flytype):\n",
        "  def fly(self):\n",
        "    print(\"i can fly with wings\")\n",
        "\n",
        "class Nofly(Flytype):\n",
        "  def fly(self):\n",
        "    print(\"i can't fly\")\n",
        "\n",
        "class Quaksloud(Quaktype):\n",
        "  def quack(self):\n",
        "    print(\"i can quack loud\")\n",
        "\n",
        "class Quackquiet(Quaktype):\n",
        "  def quack(self):\n",
        "    print(\"i can quack quiet\")\n",
        "\n",
        "class Rocketpoweredflying(Flytype):\n",
        "  def fly(self):\n",
        "    print(\"i can fly with rocket power\")"
      ],
      "metadata": {
        "id": "pGLlWrGpj2-H"
      },
      "execution_count": 73,
      "outputs": []
    },
    {
      "cell_type": "code",
      "source": [
        "duck1 = Duck(Flywithwings(), Quaksloud())\n",
        "duck2 = Duck(Nofly(), Quackquiet())\n",
        "duck3 = Duck(Rocketpoweredflying(), Quaksloud())"
      ],
      "metadata": {
        "id": "kZSTL72_xie5"
      },
      "execution_count": 74,
      "outputs": []
    },
    {
      "cell_type": "code",
      "source": [
        "print(duck1.fly(), duck1.quack())"
      ],
      "metadata": {
        "colab": {
          "base_uri": "https://localhost:8080/"
        },
        "id": "9nZuwAokxmkB",
        "outputId": "846c8e47-1a6a-4c19-a7c5-f16ff06c902f"
      },
      "execution_count": 75,
      "outputs": [
        {
          "output_type": "stream",
          "name": "stdout",
          "text": [
            "i can fly with wings\n",
            "i can quack loud\n",
            "None None\n"
          ]
        }
      ]
    },
    {
      "cell_type": "code",
      "source": [
        "print(duck2.fly(), duck2.quack())"
      ],
      "metadata": {
        "colab": {
          "base_uri": "https://localhost:8080/"
        },
        "id": "4_LnpHu2x0DR",
        "outputId": "fccadda6-2fb5-490d-f61a-898dbbc9a9d8"
      },
      "execution_count": 76,
      "outputs": [
        {
          "output_type": "stream",
          "name": "stdout",
          "text": [
            "i can't fly\n",
            "i can quack quiet\n",
            "None None\n"
          ]
        }
      ]
    },
    {
      "cell_type": "code",
      "source": [
        "print(duck3.fly(), duck3.quack())"
      ],
      "metadata": {
        "colab": {
          "base_uri": "https://localhost:8080/"
        },
        "id": "dsMHKegWz53Q",
        "outputId": "723f3ea9-9051-4388-ad2c-75e90211849c"
      },
      "execution_count": 77,
      "outputs": [
        {
          "output_type": "stream",
          "name": "stdout",
          "text": [
            "i can fly with rocket power\n",
            "i can quack loud\n",
            "None None\n"
          ]
        }
      ]
    },
    {
      "cell_type": "code",
      "source": [
        "duck1.setflytype(Rocketpoweredflying())\n",
        "duck1.setquaktype(Quackquiet())\n",
        "print(duck1.fly(), duck1.quack())"
      ],
      "metadata": {
        "colab": {
          "base_uri": "https://localhost:8080/"
        },
        "id": "FcuWYJSD3Bki",
        "outputId": "cb5e59c5-7c72-4a74-a8fc-6c0df7245609"
      },
      "execution_count": 79,
      "outputs": [
        {
          "output_type": "stream",
          "name": "stdout",
          "text": [
            "i can fly with rocket power\n",
            "i can quack quiet\n",
            "None None\n"
          ]
        }
      ]
    },
    {
      "cell_type": "markdown",
      "source": [
        "# observer pattern\n",
        "\n",
        "quick revision:\n",
        "\n",
        "- The **Observer Pattern** defines a **one-to-many relationship** between objects, meaning when one object (the Subject) changes state, all dependent objects (Observers) are notified and updated automatically.\n",
        "- Observers are **loosely coupled** to the Subject, meaning the Subject only knows that they implement the Observer interface and nothing more about their internal workings.\n",
        "- Loose coupling makes systems more **flexible** and easier to maintain, as changes in one part of the system don't heavily impact other parts.\n",
        "- A **tightly coupled** system, on the other hand, is more fragile and harder to modify because objects are overly dependent on each other.\n",
        "- The **WeatherData class** is an example of a Subject that holds state (e.g., temperature, humidity, pressure), and when these measurements change, it must notify all display elements (Observers).\n",
        "- The Subject uses a **common interface** to notify Observers about changes, ensuring that updates are handled in a consistent way.\n",
        "- **Push** vs. **Pull**: You can either push data from the Subject to Observers or have Observers pull data from the Subject. Pulling is considered more \"correct\" because it gives Observers more control over what they need.\n",
        "- In the **push** approach, the Subject sends updated data directly to the Observers as arguments in the update call.\n",
        "- In the **pull** approach, the Subject only notifies Observers that something has changed, and Observers call getter methods on the Subject to pull the data they need.\n",
        "- **When to use the Observer Pattern**: It’s useful when you have objects that need to stay in sync with changes in another object, but you want to avoid tight coupling. It’s especially helpful if you expect changes in the system over time.\n",
        "- **How to recognize the Observer Pattern**: Look for scenarios where one object (Subject) needs to notify multiple other objects (Observers) when its state changes, but without knowing the details of those Observers.\n",
        "- **Common use cases**:\n",
        "  - User interfaces where multiple elements need to update when data changes (e.g., a weather app with multiple displays).\n",
        "  - Event handling systems where many listeners need to react to a single event (e.g., GUI button click).\n",
        "  - Stock market apps where multiple clients observe changes in stock prices.\n",
        "  - Social media platforms where users follow other users, and any status updates are broadcasted to all followers.\n",
        "- The Observer Pattern is an example of **minimizing interdependencies** between objects, which makes designs more adaptable to future changes.\n",
        "- The **one-to-many relationship** and **loose coupling** are key characteristics of the Observer Pattern, allowing for more flexible and maintainable code.\n",
        "- The design principle behind the Observer Pattern helps ensure that systems can **scale** and **evolve** more easily because the Subject doesn’t need to know specifics about its Observers."
      ],
      "metadata": {
        "id": "Kur4erfEBLV9"
      }
    },
    {
      "cell_type": "code",
      "source": [
        "class WeatherData:\n",
        "  def __init__(self):\n",
        "    self.observers = []\n",
        "    self.temperature = 0\n",
        "    self.humidity = 0\n",
        "    self.pressure = 0\n",
        "\n",
        "  def registerObserver(self, observer):\n",
        "    self.observers.append(observer)\n",
        "\n",
        "  def removeObserver(self, observer):\n",
        "    self.observers.remove(observer)\n",
        "\n",
        "  def notifyObservers(self):\n",
        "    for observer in self.observers:\n",
        "      observer.update(self.temperature, self.humidity, self.pressure)\n",
        "\n",
        "  def setMeasurements(self, temperature, humidity, pressure):\n",
        "    self.temperature = temperature\n",
        "    self.humidity = humidity\n",
        "    self.pressure = pressure\n",
        "    self.notifyObservers()\n",
        "\n",
        "class Observer:\n",
        "  def update(self, temperature, humidity, pressure):\n",
        "    pass\n",
        "\n",
        "class DisplayElement:\n",
        "  def display(self):\n",
        "    pass\n",
        "\n",
        "class CurrentConditionsDisplay(Observer, DisplayElement):\n",
        "  def __init__(self):\n",
        "    self.temperature = 0\n",
        "    self.humidity = 0\n",
        "    self.pressure = 0\n",
        "\n",
        "  def update(self, temperature, humidity, pressure):\n",
        "    self.temperature = temperature\n",
        "    self.humidity = humidity\n",
        "    self.pressure = pressure\n",
        "    self.display()\n",
        "\n",
        "  def display(self):\n",
        "    print(\"Current conditions:\", self.temperature, \"F degrees and\", self.humidity, \"% humidity\")\n",
        "\n",
        "class pressureDisplay(Observer, DisplayElement):\n",
        "  def __init__(self):\n",
        "    self.temperature = 0\n",
        "    self.humidity = 0\n",
        "    self.pressure = 0\n",
        "\n",
        "  def update(self, temperature, humidity, pressure):\n",
        "    self.temperature = temperature\n",
        "    self.humidity = humidity\n",
        "    self.pressure = pressure\n",
        "    self.display()\n",
        "\n",
        "  def display(self):\n",
        "    print(\"Current pressure:\", self.pressure)\n",
        "\n",
        "class HeatindexDisplay(Observer, DisplayElement):\n",
        "  def __init__(self):\n",
        "    self.temperature = 0\n",
        "    self.humidity = 0\n",
        "    self.pressure = 0\n",
        "\n",
        "  def update(self, temperature, humidity, pressure):\n",
        "    self.temperature = temperature\n",
        "    self.humidity = humidity\n",
        "    self.pressure = pressure\n",
        "    self.display()\n",
        "\n",
        "  def display(self):\n",
        "    heatindex = (16.923 + (0.185212 * self.temperature) + (5.37941 * self.humidity) - (0.100254 * self.temperature * self.humidity))\n",
        "    print(\"Current heat index:\", heatindex)\n",
        "\n",
        "\n",
        "weatherdata = WeatherData()\n",
        "conditiondisplay = CurrentConditionsDisplay()\n",
        "pressuredisplay = pressureDisplay()\n",
        "heatindexdisplay = HeatindexDisplay()\n",
        "weatherdata.registerObserver(conditiondisplay)\n",
        "weatherdata.registerObserver(pressuredisplay)\n",
        "weatherdata.registerObserver(heatindexdisplay)\n",
        "weatherdata.setMeasurements(80, 65, 30)"
      ],
      "metadata": {
        "colab": {
          "base_uri": "https://localhost:8080/"
        },
        "id": "gaZfPRSABRf6",
        "outputId": "97b61edc-01d1-483e-c0c3-4d17050fbe54"
      },
      "execution_count": 27,
      "outputs": [
        {
          "output_type": "stream",
          "name": "stdout",
          "text": [
            "Current conditions: 80 F degrees and 65 % humidity\n",
            "Current pressure: 30\n",
            "Current heat index: -139.91918999999996\n"
          ]
        }
      ]
    },
    {
      "cell_type": "code",
      "source": [
        "class WeatherDatapull:\n",
        "  def __init__(self):\n",
        "    self.observers = []\n",
        "    self.temperature = 0\n",
        "    self.humidity = 0\n",
        "    self.pressure = 0\n",
        "    self.windspeed = 0\n",
        "\n",
        "  def registerObserver(self, observer):\n",
        "    self.observers.append(observer)\n",
        "\n",
        "  def removeObserver(self, observer):\n",
        "    self.observers.remove(observer)\n",
        "\n",
        "  def notifyObservers(self):\n",
        "    for observer in self.observers:\n",
        "      observer.update()\n",
        "\n",
        "  def setMeasurements(self, temperature, humidity, pressure, windspeed):\n",
        "    self.temperature = temperature\n",
        "    self.humidity = humidity\n",
        "    self.pressure = pressure\n",
        "    self.windspeed = windspeed\n",
        "    self.notifyObservers()\n",
        "\n",
        "  def getTemperature(self):\n",
        "    return self.temperature\n",
        "\n",
        "  def getHumidity(self):\n",
        "    return self.humidity\n",
        "\n",
        "  def getPressure(self):\n",
        "    return self.pressure\n",
        "\n",
        "  def getWindspeed(self):\n",
        "    return self.windspeed\n",
        "\n",
        "class Observerpull:\n",
        "  def update(self):\n",
        "    pass\n",
        "\n",
        "class DisplayElementpull:\n",
        "  def display(self):\n",
        "    pass\n",
        "\n",
        "class TemperatureDisplaypull(Observerpull, DisplayElementpull):\n",
        "  def __init__(self, weatherdata):\n",
        "    self.weatherdata = weatherdata\n",
        "    self.temperature = 0\n",
        "    self.humidity = 0\n",
        "    self.pressure = 0\n",
        "    self.windspeed = 0\n",
        "\n",
        "  def update(self):\n",
        "    self.temperature = self.weatherdata.getTemperature()\n",
        "    self.display()\n",
        "\n",
        "  def display(self):\n",
        "    print(\"Current temperature:\", self.temperature, \"F degrees\")\n",
        "\n",
        "\n",
        "class WindspeedDisplaypull(Observerpull, DisplayElementpull):\n",
        "  def __init__(self, weatherdata):\n",
        "    self.weatherdata = weatherdata\n",
        "    self.temperature = 0\n",
        "    self.humidity = 0\n",
        "    self.pressure = 0\n",
        "    self.windspeed = 0\n",
        "\n",
        "  def update(self):\n",
        "    self.windspeed = self.weatherdata.getWindspeed()\n",
        "    self.display()\n",
        "\n",
        "  def display(self):\n",
        "    print(\"Current windspeed:\", self.windspeed, \"mph\")\n",
        "\n",
        "\n",
        "weatherdata = WeatherDatapull()\n",
        "temperaturedisplay = TemperatureDisplaypull(weatherdata)\n",
        "windspeeddisplay = WindspeedDisplaypull(weatherdata)\n",
        "weatherdata.registerObserver(temperaturedisplay)\n",
        "weatherdata.registerObserver(windspeeddisplay)\n",
        "weatherdata.setMeasurements(80, 65, 30, 10)"
      ],
      "metadata": {
        "colab": {
          "base_uri": "https://localhost:8080/"
        },
        "id": "DBifrG1QTxcG",
        "outputId": "b516a97b-c632-4413-cc4b-807bef722a6f"
      },
      "execution_count": 29,
      "outputs": [
        {
          "output_type": "stream",
          "name": "stdout",
          "text": [
            "Current temperature: 80 F degrees\n",
            "Current windspeed: 10 mph\n"
          ]
        }
      ]
    }
  ]
}
