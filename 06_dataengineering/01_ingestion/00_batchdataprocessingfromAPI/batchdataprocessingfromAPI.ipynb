{
 "cells": [
  {
   "cell_type": "markdown",
   "metadata": {},
   "source": [
    "# Batch Data Processing from an API\n",
    "\n",
    "In this lab, you will learn how to interact with the Spotify API and extract data from the API in a batch way. You will explore what pagination means and how to send an API request that requires authorization."
   ]
  },
  {
   "cell_type": "markdown",
   "metadata": {},
   "source": [
    "# Table of Contents\n",
    "\n",
    "- [ 1 - Create a Spotify APP](#1)\n",
    "- [ 2 - Understand the Basics of APIs](#2)\n",
    "  - [ 2.1 - Get Token](#2.1)\n",
    "  - [ 2.2 - Get Featured Playlists](#2.2)\n",
    "    - [ Exercise 1](#ex01)\n",
    "  - [ 2.3 - Pagination](#2.3)\n",
    "    - [ Exercise 2](#ex02)\n",
    "    - [ Exercise 3](#ex03)\n",
    "  - [ 2.4 - Optional - API Rate Limits](#2.4)\n",
    "- [ 3 - Batch pipeline](#3)\n",
    "  - [ Exercise 4](#ex04)\n",
    "  - [ Exercise 5](#ex05)\n",
    "  - [ Exercise 6](#ex06)\n",
    "- [ 4 - Optional - Spotipy SDK](#4)\n",
    "  - [ Exercise 7](#ex07)\n",
    "- [ 5 - Upload the Files for Grading](#5)"
   ]
  },
  {
   "cell_type": "markdown",
   "metadata": {},
   "source": [
    "<a name='1'></a>\n",
    "## 1 - Create a Spotify APP\n",
    "\n",
    "To get access to the API resources, you need to create a Spotify account if you don't already have one. A trial account will be enough to complete this lab.\n",
    "\n",
    "1. Go to https://developer.spotify.com/, create an account and log in.\n",
    "2. Click on the account name in the right-top corner and then click on **Dashboard**.\n",
    "3. Create a new APP using the following details:\n",
    "   - App name: `dec2w2a1-spotify-app`\n",
    "   - App description: `spotify app to test the API`\n",
    "   - Website: leave empty\n",
    "   - Redirect URIs: `http://localhost:3000`\n",
    "   - API to use: select `Web API`\n",
    "4. Click on **Save** button. If you get an error message saying that your account is not ready, you can log out, wait for a few minutes and then repeat again steps 2-4.\n",
    "5. In the App Home page click on **Settings** and reveal `Client ID` and `Client secret`. Store them in the `src/env` file provided in this lab. Make sure to save the `src/env` file using `Ctrl + S` or `Cmd + S`.\n",
    "\n",
    "\n",
    "Here's the link to [the Spotify API documentation](https://developer.spotify.com/documentation/web-api/tutorials/getting-started) that you can refer to while you're working on the lab's exercises. The required information to complete the tasks will be given during the lab. You will interact with two resources: \n",
    "- Featured playlists in the first and second parts ([endpoint](https://developer.spotify.com/documentation/web-api/reference/get-featured-playlists));\n",
    "- Playlist items in the second part ([endpoint](https://developer.spotify.com/documentation/web-api/reference/get-playlists-tracks))."
   ]
  },
  {
   "cell_type": "markdown",
   "metadata": {},
   "source": [
    "<a name='2'></a>\n",
    "## 2 - Understand the Basics of APIs\n",
    "\n",
    "Several packages in Python allow you to request data from an API; in this lab, you will use the `requests` package, which is a popular and versatile library to perform HTTP requests. It provides a simple and easy-to-use way to interact with web services and APIs. Let's load the required packages:"
   ]
  },
  {
   "cell_type": "code",
   "execution_count": 1,
   "metadata": {},
   "outputs": [],
   "source": [
    "import os\n",
    "import subprocess\n",
    "from typing import Dict, Any, Callable\n",
    "\n",
    "from dotenv import load_dotenv\n",
    "import json\n",
    "import requests "
   ]
  },
  {
   "cell_type": "markdown",
   "metadata": {},
   "source": [
    "<a name='2.1'></a>\n",
    "### 2.1 - Get Token\n",
    "\n",
    "The first step when working with an API is to understand the authentication process. For that, the Spotify APP generates a Client ID and a Client secret that you will use to generate an access token. The access token is a string that contains the credentials and permissions that you can use to access a given resource. You can find more about it in the [API documentation](https://developer.spotify.com/documentation/web-api/concepts/access-token). Since each API is developed with a particular purpose, it is necessary for you to always read and understand the nuances of each API so you can access the data responsibly. Throughout this lab, you will be provided with several links to the documentation and you are encouraged to read them. (During the lab session, you may quickly skim through the links, but you can always check them in more details after the lab session). \n",
    "\n",
    "Let's create some variables to hold the values of the client_id and client_secret that you stored in the src/env file."
   ]
  },
  {
   "cell_type": "code",
   "execution_count": 2,
   "metadata": {},
   "outputs": [],
   "source": [
    "load_dotenv('./src/env', override=True)\n",
    "\n",
    "CLIENT_ID = os.getenv('CLIENT_ID')\n",
    "CLIENT_SECRET = os.getenv('CLIENT_SECRET')"
   ]
  },
  {
   "cell_type": "markdown",
   "metadata": {},
   "source": [
    "The `get_token` function below takes a Client ID, Client secret and a URL as input, and performs a POST request to that URL to obtain an access token using the client credentials. Run the following cell to get the access token."
   ]
  },
  {
   "cell_type": "code",
   "execution_count": 3,
   "metadata": {},
   "outputs": [
    {
     "name": "stdout",
     "output_type": "stream",
     "text": [
      "<class 'requests.models.Response'>\n",
      "{'access_token': 'BQCT_xD5pGiH8_0DYXc_Hh0qY1WLnyoRzwCDSucM_0u_t-mPB3UzZXg_ZknmZnasCZtmZ4eyoPm17rLfNYvbuu8ykK86froaOwaBH5eemlHfuj7n6DI', 'token_type': 'Bearer', 'expires_in': 3600}\n"
     ]
    }
   ],
   "source": [
    "def get_token(client_id: str, client_secret: str, url: str) -> Dict[Any, Any]:\n",
    "    \"\"\"Allows to perform a POST request to obtain an access token \n",
    "\n",
    "    Args:\n",
    "        client_id (str): App client id\n",
    "        client_secret (str): App client secret\n",
    "        url (str): URL to perform the post request\n",
    "\n",
    "    Returns:\n",
    "        Dict[Any, Any]: Dictionary containing the access token\n",
    "    \"\"\"\n",
    "        \n",
    "    headers = {        \n",
    "        \"Content-Type\": \"application/x-www-form-urlencoded\"            \n",
    "    }\n",
    "    \n",
    "    payload = {\n",
    "                \"grant_type\": \"client_credentials\", \n",
    "                \"client_id\": client_id, \n",
    "                \"client_secret\": client_secret\n",
    "               }\n",
    "    \n",
    "    try: \n",
    "        response = requests.post(url=url, headers=headers, data=payload)\n",
    "        print(type(response))\n",
    "        response.raise_for_status()\n",
    "        response_json = json.loads(response.content)\n",
    "        \n",
    "        return response_json\n",
    "        \n",
    "    except Exception as err:\n",
    "        print(f\"Error: {err}\")\n",
    "        return {}\n",
    "\n",
    "URL_TOKEN=\"https://accounts.spotify.com/api/token\"\n",
    "token = get_token(client_id=CLIENT_ID, client_secret=CLIENT_SECRET, url=URL_TOKEN)\n",
    "\n",
    "print(token)"
   ]
  },
  {
   "cell_type": "markdown",
   "metadata": {},
   "source": [
    "You can see that you are provided with a temporary access token. The `expires_in` field tells you the duration of this token in seconds. When this token expires, your requests will fail and an error object will be returned to you holding a status code of 401. This status code means that the request is unauthorized.\n",
    "\n",
    "Whenever you send an API request to the spotify API, you need to include in the request the access token, as an authorization header following a certain format. You are provided with the function `get_auth_header`. This function expects the access token and returns the authorization header that can be included in the API request. \n",
    "\n",
    "Make sure to run the following cell to declare the function `get_auth_header`, which you will use throughout this lab."
   ]
  },
  {
   "cell_type": "code",
   "execution_count": 4,
   "metadata": {},
   "outputs": [],
   "source": [
    "def get_auth_header(access_token: str) -> Dict[str, str]:\n",
    "    return {\"Authorization\": f\"Bearer {access_token}\"}"
   ]
  },
  {
   "cell_type": "markdown",
   "metadata": {},
   "source": [
    "Now, let's use the token to perform a request to access the first resource, which is the [featured playlists](https://developer.spotify.com/documentation/web-api/reference/get-featured-playlists)."
   ]
  },
  {
   "cell_type": "markdown",
   "metadata": {},
   "source": [
    "<a name='2.2'></a>\n",
    "### 2.2 - Get Featured Playlists"
   ]
  },
  {
   "cell_type": "markdown",
   "metadata": {},
   "source": [
    "<a name='ex01'></a>\n",
    "### Exercise 1\n",
    "\n",
    "Follow the instructions to complete the `get_featured_playlists` function:\n",
    "\n",
    "1. Call the function `get_auth_header`and pass to it the access token (which is specified as input to the `get_featured_playlists` function). Save the output of `get_auth_header` to a variable called `headers`.\n",
    "2. You are provided with the URL in the `request_url` variable. Use this URL and the header from the previous step to perform a `get()` request. \n",
    "3. Request `response` is an object of type `requests.models.Response`. This object has a method named `json()` that allows you to transform the response content into a JSON object or plain Python dictionary. Use this method on the `response` object to return the content as a Python dictionary.\n",
    "\n",
    "Then you will use the provided `URL_FEATURE_PLAYLISTS` URL or endpoint to perform calls to the API, passing the `access_token` value from the `token` object that you obtained before."
   ]
  },
  {
   "cell_type": "code",
   "execution_count": 6,
   "metadata": {
    "exercise": [
     "ex01"
    ],
    "tags": [
     "graded"
    ]
   },
   "outputs": [
    {
     "data": {
      "text/plain": [
       "{'message': 'Popular Playlists',\n",
       " 'playlists': {'href': 'https://api.spotify.com/v1/browse/featured-playlists?offset=0&limit=20',\n",
       "  'items': [{'collaborative': False,\n",
       "    'description': 'The hottest 50. Cover: ROSÉ & Bruno Mars',\n",
       "    'external_urls': {'spotify': 'https://open.spotify.com/playlist/37i9dQZF1DXcBWIGoYBM5M'},\n",
       "    'href': 'https://api.spotify.com/v1/playlists/37i9dQZF1DXcBWIGoYBM5M',\n",
       "    'id': '37i9dQZF1DXcBWIGoYBM5M',\n",
       "    'images': [{'height': None,\n",
       "      'url': 'https://i.scdn.co/image/ab67706f0000000254300210e0f8fa40dfa35bd4',\n",
       "      'width': None}],\n",
       "    'name': 'Today’s Top Hits',\n",
       "    'owner': {'display_name': 'Spotify',\n",
       "     'external_urls': {'spotify': 'https://open.spotify.com/user/spotify'},\n",
       "     'href': 'https://api.spotify.com/v1/users/spotify',\n",
       "     'id': 'spotify',\n",
       "     'type': 'user',\n",
       "     'uri': 'spotify:user:spotify'},\n",
       "    'primary_color': '#FFFFFF',\n",
       "    'public': True,\n",
       "    'snapshot_id': 'ZxvjXgAAAABJM41CaGY2VJBOFycN2W+k',\n",
       "    'tracks': {'href': 'https://api.spotify.com/v1/playlists/37i9dQZF1DXcBWIGoYBM5M/tracks',\n",
       "     'total': 50},\n",
       "    'type': 'playlist',\n",
       "    'uri': 'spotify:playlist:37i9dQZF1DXcBWIGoYBM5M'},\n",
       "   {'collaborative': False,\n",
       "    'description': 'Fun tracks for your Halloween festivities!',\n",
       "    'external_urls': {'spotify': 'https://open.spotify.com/playlist/37i9dQZF1DX8S9gwdi7dev'},\n",
       "    'href': 'https://api.spotify.com/v1/playlists/37i9dQZF1DX8S9gwdi7dev',\n",
       "    'id': '37i9dQZF1DX8S9gwdi7dev',\n",
       "    'images': [{'height': None,\n",
       "      'url': 'https://i.scdn.co/image/ab67706f000000021293d78c1e0d8d8cb4334162',\n",
       "      'width': None}],\n",
       "    'name': 'Halloween Party',\n",
       "    'owner': {'display_name': 'Spotify',\n",
       "     'external_urls': {'spotify': 'https://open.spotify.com/user/spotify'},\n",
       "     'href': 'https://api.spotify.com/v1/users/spotify',\n",
       "     'id': 'spotify',\n",
       "     'type': 'user',\n",
       "     'uri': 'spotify:user:spotify'},\n",
       "    'primary_color': '#ffffff',\n",
       "    'public': True,\n",
       "    'snapshot_id': 'ZxE9OwAAAABIOoh26Mluxi3J1Ohhp13t',\n",
       "    'tracks': {'href': 'https://api.spotify.com/v1/playlists/37i9dQZF1DX8S9gwdi7dev/tracks',\n",
       "     'total': 85},\n",
       "    'type': 'playlist',\n",
       "    'uri': 'spotify:playlist:37i9dQZF1DX8S9gwdi7dev'},\n",
       "   {'collaborative': False,\n",
       "    'description': \"Today's top country hits. Cover: Kelsea Ballerini\",\n",
       "    'external_urls': {'spotify': 'https://open.spotify.com/playlist/37i9dQZF1DX1lVhptIYRda'},\n",
       "    'href': 'https://api.spotify.com/v1/playlists/37i9dQZF1DX1lVhptIYRda',\n",
       "    'id': '37i9dQZF1DX1lVhptIYRda',\n",
       "    'images': [{'height': None,\n",
       "      'url': 'https://i.scdn.co/image/ab67706f000000022e81c4e9ea641fe83cb9a158',\n",
       "      'width': None}],\n",
       "    'name': 'Hot Country',\n",
       "    'owner': {'display_name': 'Spotify',\n",
       "     'external_urls': {'spotify': 'https://open.spotify.com/user/spotify'},\n",
       "     'href': 'https://api.spotify.com/v1/users/spotify',\n",
       "     'id': 'spotify',\n",
       "     'type': 'user',\n",
       "     'uri': 'spotify:user:spotify'},\n",
       "    'primary_color': '#FFC864',\n",
       "    'public': True,\n",
       "    'snapshot_id': 'ZxsXwAAAAADtEYe1p3wXl7W+9RXMPW7W',\n",
       "    'tracks': {'href': 'https://api.spotify.com/v1/playlists/37i9dQZF1DX1lVhptIYRda/tracks',\n",
       "     'total': 50},\n",
       "    'type': 'playlist',\n",
       "    'uri': 'spotify:playlist:37i9dQZF1DX1lVhptIYRda'},\n",
       "   {'collaborative': False,\n",
       "    'description': 'New music from Tyler, The Creator, Gucci Mane, Sexyy Red and Megan Thee Stallion.',\n",
       "    'external_urls': {'spotify': 'https://open.spotify.com/playlist/37i9dQZF1DX0XUsuxWHRQd'},\n",
       "    'href': 'https://api.spotify.com/v1/playlists/37i9dQZF1DX0XUsuxWHRQd',\n",
       "    'id': '37i9dQZF1DX0XUsuxWHRQd',\n",
       "    'images': [{'height': None,\n",
       "      'url': 'https://i.scdn.co/image/ab67706f00000002bed318c241fd8a88c59e0ece',\n",
       "      'width': None}],\n",
       "    'name': 'RapCaviar',\n",
       "    'owner': {'display_name': 'Spotify',\n",
       "     'external_urls': {'spotify': 'https://open.spotify.com/user/spotify'},\n",
       "     'href': 'https://api.spotify.com/v1/users/spotify',\n",
       "     'id': 'spotify',\n",
       "     'type': 'user',\n",
       "     'uri': 'spotify:user:spotify'},\n",
       "    'primary_color': '#F49B23',\n",
       "    'public': True,\n",
       "    'snapshot_id': 'Zx+a4gAAAAAuhEhPTkavpnJK4cnLfSUU',\n",
       "    'tracks': {'href': 'https://api.spotify.com/v1/playlists/37i9dQZF1DX0XUsuxWHRQd/tracks',\n",
       "     'total': 50},\n",
       "    'type': 'playlist',\n",
       "    'uri': 'spotify:playlist:37i9dQZF1DX0XUsuxWHRQd'},\n",
       "   {'collaborative': False,\n",
       "    'description': 'The essential tracks, all in one playlist.',\n",
       "    'external_urls': {'spotify': 'https://open.spotify.com/playlist/37i9dQZF1DX5KpP2LN299J'},\n",
       "    'href': 'https://api.spotify.com/v1/playlists/37i9dQZF1DX5KpP2LN299J',\n",
       "    'id': '37i9dQZF1DX5KpP2LN299J',\n",
       "    'images': [{'height': None,\n",
       "      'url': 'https://i.scdn.co/image/ab67706f0000000252feef11af8c9d412769ec5a',\n",
       "      'width': None}],\n",
       "    'name': 'This Is Taylor Swift',\n",
       "    'owner': {'display_name': 'Spotify',\n",
       "     'external_urls': {'spotify': 'https://open.spotify.com/user/spotify'},\n",
       "     'href': 'https://api.spotify.com/v1/users/spotify',\n",
       "     'id': 'spotify',\n",
       "     'type': 'user',\n",
       "     'uri': 'spotify:user:spotify'},\n",
       "    'primary_color': '#FFFFFF',\n",
       "    'public': True,\n",
       "    'snapshot_id': 'Zv9xkwAAAAAjDuFr50p1KDBZ0OoLNzTy',\n",
       "    'tracks': {'href': 'https://api.spotify.com/v1/playlists/37i9dQZF1DX5KpP2LN299J/tracks',\n",
       "     'total': 180},\n",
       "    'type': 'playlist',\n",
       "    'uri': 'spotify:playlist:37i9dQZF1DX5KpP2LN299J'},\n",
       "   {'collaborative': False,\n",
       "    'description': 'Gentle Ambient piano to help you fall asleep. ',\n",
       "    'external_urls': {'spotify': 'https://open.spotify.com/playlist/37i9dQZF1DWZd79rJ6a7lp'},\n",
       "    'href': 'https://api.spotify.com/v1/playlists/37i9dQZF1DWZd79rJ6a7lp',\n",
       "    'id': '37i9dQZF1DWZd79rJ6a7lp',\n",
       "    'images': [{'height': None,\n",
       "      'url': 'https://i.scdn.co/image/ab67706f00000002cd17d41419faa97069e06c16',\n",
       "      'width': None}],\n",
       "    'name': 'Sleep',\n",
       "    'owner': {'display_name': 'Spotify',\n",
       "     'external_urls': {'spotify': 'https://open.spotify.com/user/spotify'},\n",
       "     'href': 'https://api.spotify.com/v1/users/spotify',\n",
       "     'id': 'spotify',\n",
       "     'type': 'user',\n",
       "     'uri': 'spotify:user:spotify'},\n",
       "    'primary_color': '#ffffff',\n",
       "    'public': True,\n",
       "    'snapshot_id': 'Zw0azwAAAABd5zdpDcOYN6X73NoFFysB',\n",
       "    'tracks': {'href': 'https://api.spotify.com/v1/playlists/37i9dQZF1DWZd79rJ6a7lp/tracks',\n",
       "     'total': 175},\n",
       "    'type': 'playlist',\n",
       "    'uri': 'spotify:playlist:37i9dQZF1DWZd79rJ6a7lp'},\n",
       "   {'collaborative': False,\n",
       "    'description': 'Ten hours long continuous white noise to help you relax and let go. ',\n",
       "    'external_urls': {'spotify': 'https://open.spotify.com/playlist/37i9dQZF1DWUZ5bk6qqDSy'},\n",
       "    'href': 'https://api.spotify.com/v1/playlists/37i9dQZF1DWUZ5bk6qqDSy',\n",
       "    'id': '37i9dQZF1DWUZ5bk6qqDSy',\n",
       "    'images': [{'height': None,\n",
       "      'url': 'https://i.scdn.co/image/ab67706f000000025b4d326fee8531fe32efe166',\n",
       "      'width': None}],\n",
       "    'name': 'White Noise 10 Hours',\n",
       "    'owner': {'display_name': 'Spotify',\n",
       "     'external_urls': {'spotify': 'https://open.spotify.com/user/spotify'},\n",
       "     'href': 'https://api.spotify.com/v1/users/spotify',\n",
       "     'id': 'spotify',\n",
       "     'type': 'user',\n",
       "     'uri': 'spotify:user:spotify'},\n",
       "    'primary_color': '#ffffff',\n",
       "    'public': True,\n",
       "    'snapshot_id': 'ZqnuAAAAAADSRNW1NqHu/OaQg+39co31',\n",
       "    'tracks': {'href': 'https://api.spotify.com/v1/playlists/37i9dQZF1DWUZ5bk6qqDSy/tracks',\n",
       "     'total': 230},\n",
       "    'type': 'playlist',\n",
       "    'uri': 'spotify:playlist:37i9dQZF1DWUZ5bk6qqDSy'},\n",
       "   {'collaborative': False,\n",
       "    'description': \"Today's top Latin hits, elevando nuestra música. Cover: LATIN MAFIA\",\n",
       "    'external_urls': {'spotify': 'https://open.spotify.com/playlist/37i9dQZF1DX10zKzsJ2jva'},\n",
       "    'href': 'https://api.spotify.com/v1/playlists/37i9dQZF1DX10zKzsJ2jva',\n",
       "    'id': '37i9dQZF1DX10zKzsJ2jva',\n",
       "    'images': [{'height': None,\n",
       "      'url': 'https://i.scdn.co/image/ab67706f0000000254e1dabee17de35ee5351d69',\n",
       "      'width': None}],\n",
       "    'name': 'Viva Latino',\n",
       "    'owner': {'display_name': 'Spotify',\n",
       "     'external_urls': {'spotify': 'https://open.spotify.com/user/spotify'},\n",
       "     'href': 'https://api.spotify.com/v1/users/spotify',\n",
       "     'id': 'spotify',\n",
       "     'type': 'user',\n",
       "     'uri': 'spotify:user:spotify'},\n",
       "    'primary_color': '#FFFFFF',\n",
       "    'public': True,\n",
       "    'snapshot_id': 'ZxsXwAAAAACfQ/vqizCs67AIJf0OuFRj',\n",
       "    'tracks': {'href': 'https://api.spotify.com/v1/playlists/37i9dQZF1DX10zKzsJ2jva/tracks',\n",
       "     'total': 50},\n",
       "    'type': 'playlist',\n",
       "    'uri': 'spotify:playlist:37i9dQZF1DX10zKzsJ2jva'},\n",
       "   {'collaborative': False,\n",
       "    'description': 'All your favorite Disney hits, including classics from Encanto, Descendants, Moana, Frozen, & The Lion King.',\n",
       "    'external_urls': {'spotify': 'https://open.spotify.com/playlist/37i9dQZF1DX8C9xQcOrE6T'},\n",
       "    'href': 'https://api.spotify.com/v1/playlists/37i9dQZF1DX8C9xQcOrE6T',\n",
       "    'id': '37i9dQZF1DX8C9xQcOrE6T',\n",
       "    'images': [{'height': None,\n",
       "      'url': 'https://i.scdn.co/image/ab67706f000000027bdaa8658900f615ec212e73',\n",
       "      'width': None}],\n",
       "    'name': 'Disney Hits',\n",
       "    'owner': {'display_name': 'Spotify',\n",
       "     'external_urls': {'spotify': 'https://open.spotify.com/user/spotify'},\n",
       "     'href': 'https://api.spotify.com/v1/users/spotify',\n",
       "     'id': 'spotify',\n",
       "     'type': 'user',\n",
       "     'uri': 'spotify:user:spotify'},\n",
       "    'primary_color': '#ffffff',\n",
       "    'public': True,\n",
       "    'snapshot_id': 'ZxbXEAAAAADdtsPEifYCPJNNRjCmMwRC',\n",
       "    'tracks': {'href': 'https://api.spotify.com/v1/playlists/37i9dQZF1DX8C9xQcOrE6T/tracks',\n",
       "     'total': 118},\n",
       "    'type': 'playlist',\n",
       "    'uri': 'spotify:playlist:37i9dQZF1DX8C9xQcOrE6T'},\n",
       "   {'collaborative': False,\n",
       "    'description': 'The hottest tracks in the United States. Cover: Gracie Abrams',\n",
       "    'external_urls': {'spotify': 'https://open.spotify.com/playlist/37i9dQZF1DX0kbJZpiYdZl'},\n",
       "    'href': 'https://api.spotify.com/v1/playlists/37i9dQZF1DX0kbJZpiYdZl',\n",
       "    'id': '37i9dQZF1DX0kbJZpiYdZl',\n",
       "    'images': [{'height': None,\n",
       "      'url': 'https://i.scdn.co/image/ab67706f0000000239884fdcfb98e97c0257dfe4',\n",
       "      'width': None}],\n",
       "    'name': 'Hot Hits USA',\n",
       "    'owner': {'display_name': 'Spotify',\n",
       "     'external_urls': {'spotify': 'https://open.spotify.com/user/spotify'},\n",
       "     'href': 'https://api.spotify.com/v1/users/spotify',\n",
       "     'id': 'spotify',\n",
       "     'type': 'user',\n",
       "     'uri': 'spotify:user:spotify'},\n",
       "    'primary_color': '#FFFFFF',\n",
       "    'public': True,\n",
       "    'snapshot_id': 'ZxsXwAAAAAAlwcbRCjt5zFgeJtBDksFY',\n",
       "    'tracks': {'href': 'https://api.spotify.com/v1/playlists/37i9dQZF1DX0kbJZpiYdZl/tracks',\n",
       "     'total': 50},\n",
       "    'type': 'playlist',\n",
       "    'uri': 'spotify:playlist:37i9dQZF1DX0kbJZpiYdZl'},\n",
       "   {'collaborative': False,\n",
       "    'description': 'New music from Lady Gaga, Summer Walker, Halsey, Addison Rae,  and more!',\n",
       "    'external_urls': {'spotify': 'https://open.spotify.com/playlist/37i9dQZF1DX4JAvHpjipBk'},\n",
       "    'href': 'https://api.spotify.com/v1/playlists/37i9dQZF1DX4JAvHpjipBk',\n",
       "    'id': '37i9dQZF1DX4JAvHpjipBk',\n",
       "    'images': [{'height': None,\n",
       "      'url': 'https://i.scdn.co/image/ab67706f00000002513967342b672ffc53639889',\n",
       "      'width': None}],\n",
       "    'name': 'New Music Friday',\n",
       "    'owner': {'display_name': 'Spotify',\n",
       "     'external_urls': {'spotify': 'https://open.spotify.com/user/spotify'},\n",
       "     'href': 'https://api.spotify.com/v1/users/spotify',\n",
       "     'id': 'spotify',\n",
       "     'type': 'user',\n",
       "     'uri': 'spotify:user:spotify'},\n",
       "    'primary_color': '#FFFFFF',\n",
       "    'public': True,\n",
       "    'snapshot_id': 'ZxxvCwAAAABYSe4Sr7pJL2Dhr+48sUTz',\n",
       "    'tracks': {'href': 'https://api.spotify.com/v1/playlists/37i9dQZF1DX4JAvHpjipBk/tracks',\n",
       "     'total': 100},\n",
       "    'type': 'playlist',\n",
       "    'uri': 'spotify:playlist:37i9dQZF1DX4JAvHpjipBk'},\n",
       "   {'collaborative': False,\n",
       "    'description': 'Peaceful piano to help you slow down, breathe, and relax. ',\n",
       "    'external_urls': {'spotify': 'https://open.spotify.com/playlist/37i9dQZF1DX4sWSpwq3LiO'},\n",
       "    'href': 'https://api.spotify.com/v1/playlists/37i9dQZF1DX4sWSpwq3LiO',\n",
       "    'id': '37i9dQZF1DX4sWSpwq3LiO',\n",
       "    'images': [{'height': None,\n",
       "      'url': 'https://i.scdn.co/image/ab67706f0000000283da657fca565320e9311863',\n",
       "      'width': None}],\n",
       "    'name': 'Peaceful Piano',\n",
       "    'owner': {'display_name': 'Spotify',\n",
       "     'external_urls': {'spotify': 'https://open.spotify.com/user/spotify'},\n",
       "     'href': 'https://api.spotify.com/v1/users/spotify',\n",
       "     'id': 'spotify',\n",
       "     'type': 'user',\n",
       "     'uri': 'spotify:user:spotify'},\n",
       "    'primary_color': '#ffffff',\n",
       "    'public': True,\n",
       "    'snapshot_id': 'ZxZ6HQAAAABOsBYjES9x4Bnh3XHAGmki',\n",
       "    'tracks': {'href': 'https://api.spotify.com/v1/playlists/37i9dQZF1DX4sWSpwq3LiO/tracks',\n",
       "     'total': 199},\n",
       "    'type': 'playlist',\n",
       "    'uri': 'spotify:playlist:37i9dQZF1DX4sWSpwq3LiO'},\n",
       "   {'collaborative': False,\n",
       "    'description': 'autumn leaves falling down like pieces into place',\n",
       "    'external_urls': {'spotify': 'https://open.spotify.com/playlist/37i9dQZF1DXahsxs9xh0fn'},\n",
       "    'href': 'https://api.spotify.com/v1/playlists/37i9dQZF1DXahsxs9xh0fn',\n",
       "    'id': '37i9dQZF1DXahsxs9xh0fn',\n",
       "    'images': [{'height': None,\n",
       "      'url': 'https://i.scdn.co/image/ab67706f00000002dcbea5e236f33008e73e3192',\n",
       "      'width': None}],\n",
       "    'name': 'fall feels',\n",
       "    'owner': {'display_name': 'Spotify',\n",
       "     'external_urls': {'spotify': 'https://open.spotify.com/user/spotify'},\n",
       "     'href': 'https://api.spotify.com/v1/users/spotify',\n",
       "     'id': 'spotify',\n",
       "     'type': 'user',\n",
       "     'uri': 'spotify:user:spotify'},\n",
       "    'primary_color': '#ffffff',\n",
       "    'public': True,\n",
       "    'snapshot_id': 'Zwl66QAAAABxpX2qNgJAy6CED2PuAsUs',\n",
       "    'tracks': {'href': 'https://api.spotify.com/v1/playlists/37i9dQZF1DXahsxs9xh0fn/tracks',\n",
       "     'total': 100},\n",
       "    'type': 'playlist',\n",
       "    'uri': 'spotify:playlist:37i9dQZF1DXahsxs9xh0fn'},\n",
       "   {'collaborative': False,\n",
       "    'description': 'Soft instrumental Jazz for all your activities.',\n",
       "    'external_urls': {'spotify': 'https://open.spotify.com/playlist/37i9dQZF1DWV7EzJMK2FUI'},\n",
       "    'href': 'https://api.spotify.com/v1/playlists/37i9dQZF1DWV7EzJMK2FUI',\n",
       "    'id': '37i9dQZF1DWV7EzJMK2FUI',\n",
       "    'images': [{'height': None,\n",
       "      'url': 'https://i.scdn.co/image/ab67706f00000002472120b92edea982b5feb264',\n",
       "      'width': None}],\n",
       "    'name': 'Jazz in the Background',\n",
       "    'owner': {'display_name': 'Spotify',\n",
       "     'external_urls': {'spotify': 'https://open.spotify.com/user/spotify'},\n",
       "     'href': 'https://api.spotify.com/v1/users/spotify',\n",
       "     'id': 'spotify',\n",
       "     'type': 'user',\n",
       "     'uri': 'spotify:user:spotify'},\n",
       "    'primary_color': '#ffffff',\n",
       "    'public': True,\n",
       "    'snapshot_id': 'ZxY86AAAAAAXGC9L1oifkzvAPnuM4E6/',\n",
       "    'tracks': {'href': 'https://api.spotify.com/v1/playlists/37i9dQZF1DWV7EzJMK2FUI/tracks',\n",
       "     'total': 764},\n",
       "    'type': 'playlist',\n",
       "    'uri': 'spotify:playlist:37i9dQZF1DWV7EzJMK2FUI'},\n",
       "   {'collaborative': False,\n",
       "    'description': 'Jaylen Brown takes over Locked In. See what the NBA Finals MVP listens to to get in the zone before a big game. ',\n",
       "    'external_urls': {'spotify': 'https://open.spotify.com/playlist/37i9dQZF1DWTl4y3vgJOXW'},\n",
       "    'href': 'https://api.spotify.com/v1/playlists/37i9dQZF1DWTl4y3vgJOXW',\n",
       "    'id': '37i9dQZF1DWTl4y3vgJOXW',\n",
       "    'images': [{'height': None,\n",
       "      'url': 'https://i.scdn.co/image/ab67706f00000002d0b518b0c7788a3acbca76a9',\n",
       "      'width': None}],\n",
       "    'name': 'Locked In',\n",
       "    'owner': {'display_name': 'Spotify',\n",
       "     'external_urls': {'spotify': 'https://open.spotify.com/user/spotify'},\n",
       "     'href': 'https://api.spotify.com/v1/users/spotify',\n",
       "     'id': 'spotify',\n",
       "     'type': 'user',\n",
       "     'uri': 'spotify:user:spotify'},\n",
       "    'primary_color': '#ffffff',\n",
       "    'public': True,\n",
       "    'snapshot_id': 'ZxwL4AAAAABbEU/qtZdX8+kuyxRQowjr',\n",
       "    'tracks': {'href': 'https://api.spotify.com/v1/playlists/37i9dQZF1DWTl4y3vgJOXW/tracks',\n",
       "     'total': 61},\n",
       "    'type': 'playlist',\n",
       "    'uri': 'spotify:playlist:37i9dQZF1DWTl4y3vgJOXW'},\n",
       "   {'collaborative': False,\n",
       "    'description': \"Country music's 50 most played songs in the world. Updated weekly. Cover: Post Malone and Morgan Wallen\",\n",
       "    'external_urls': {'spotify': 'https://open.spotify.com/playlist/37i9dQZF1DX7aUUBCKwo4Y'},\n",
       "    'href': 'https://api.spotify.com/v1/playlists/37i9dQZF1DX7aUUBCKwo4Y',\n",
       "    'id': '37i9dQZF1DX7aUUBCKwo4Y',\n",
       "    'images': [{'height': None,\n",
       "      'url': 'https://i.scdn.co/image/ab67706f000000025b07a04dce2d3bdf7b3352e5',\n",
       "      'width': None}],\n",
       "    'name': 'Country Top 50',\n",
       "    'owner': {'display_name': 'Spotify',\n",
       "     'external_urls': {'spotify': 'https://open.spotify.com/user/spotify'},\n",
       "     'href': 'https://api.spotify.com/v1/users/spotify',\n",
       "     'id': 'spotify',\n",
       "     'type': 'user',\n",
       "     'uri': 'spotify:user:spotify'},\n",
       "    'primary_color': '#ffffff',\n",
       "    'public': True,\n",
       "    'snapshot_id': 'ZxsXwAAAAAD2Y5dZBX0hjl1/i0loWm+8',\n",
       "    'tracks': {'href': 'https://api.spotify.com/v1/playlists/37i9dQZF1DX7aUUBCKwo4Y/tracks',\n",
       "     'total': 50},\n",
       "    'type': 'playlist',\n",
       "    'uri': 'spotify:playlist:37i9dQZF1DX7aUUBCKwo4Y'},\n",
       "   {'collaborative': False,\n",
       "    'description': '¡Las más placosas y llegadoras de nuestra música! Al millón con Julión Álvarez y su Norteño Banda.',\n",
       "    'external_urls': {'spotify': 'https://open.spotify.com/playlist/37i9dQZF1DX905zIRtblN3'},\n",
       "    'href': 'https://api.spotify.com/v1/playlists/37i9dQZF1DX905zIRtblN3',\n",
       "    'id': '37i9dQZF1DX905zIRtblN3',\n",
       "    'images': [{'height': None,\n",
       "      'url': 'https://i.scdn.co/image/ab67706f00000002b43b4f2ee55e87965e86454e',\n",
       "      'width': None}],\n",
       "    'name': 'La Reina: Éxitos de la Música Mexicana',\n",
       "    'owner': {'display_name': 'Spotify',\n",
       "     'external_urls': {'spotify': 'https://open.spotify.com/user/spotify'},\n",
       "     'href': 'https://api.spotify.com/v1/users/spotify',\n",
       "     'id': 'spotify',\n",
       "     'type': 'user',\n",
       "     'uri': 'spotify:user:spotify'},\n",
       "    'primary_color': '#ffffff',\n",
       "    'public': True,\n",
       "    'snapshot_id': 'ZxxCHgAAAAATIQAGIJQf0qDFJSpRXPtA',\n",
       "    'tracks': {'href': 'https://api.spotify.com/v1/playlists/37i9dQZF1DX905zIRtblN3/tracks',\n",
       "     'total': 50},\n",
       "    'type': 'playlist',\n",
       "    'uri': 'spotify:playlist:37i9dQZF1DX905zIRtblN3'},\n",
       "   {'collaborative': False,\n",
       "    'description': 'the beat of your drift',\n",
       "    'external_urls': {'spotify': 'https://open.spotify.com/playlist/37i9dQZF1DWWY64wDtewQt'},\n",
       "    'href': 'https://api.spotify.com/v1/playlists/37i9dQZF1DWWY64wDtewQt',\n",
       "    'id': '37i9dQZF1DWWY64wDtewQt',\n",
       "    'images': [{'height': None,\n",
       "      'url': 'https://i.scdn.co/image/ab67706f000000027dc5028b26eb62f22d31bb1f',\n",
       "      'width': None}],\n",
       "    'name': 'phonk',\n",
       "    'owner': {'display_name': 'Spotify',\n",
       "     'external_urls': {'spotify': 'https://open.spotify.com/user/spotify'},\n",
       "     'href': 'https://api.spotify.com/v1/users/spotify',\n",
       "     'id': 'spotify',\n",
       "     'type': 'user',\n",
       "     'uri': 'spotify:user:spotify'},\n",
       "    'primary_color': '#ffffff',\n",
       "    'public': True,\n",
       "    'snapshot_id': 'Zxu25gAAAACtwJI7de9ZIpG4+HNskN+x',\n",
       "    'tracks': {'href': 'https://api.spotify.com/v1/playlists/37i9dQZF1DWWY64wDtewQt/tracks',\n",
       "     'total': 100},\n",
       "    'type': 'playlist',\n",
       "    'uri': 'spotify:playlist:37i9dQZF1DWWY64wDtewQt'},\n",
       "   {'collaborative': False,\n",
       "    'description': 'take me back to the night we met',\n",
       "    'external_urls': {'spotify': 'https://open.spotify.com/playlist/37i9dQZF1DX8eMyhtzAuvp'},\n",
       "    'href': 'https://api.spotify.com/v1/playlists/37i9dQZF1DX8eMyhtzAuvp',\n",
       "    'id': '37i9dQZF1DX8eMyhtzAuvp',\n",
       "    'images': [{'height': None,\n",
       "      'url': 'https://i.scdn.co/image/ab67706f00000002e31b401a9c3750433e7e9b67',\n",
       "      'width': None}],\n",
       "    'name': 'october obsessions',\n",
       "    'owner': {'display_name': 'Spotify',\n",
       "     'external_urls': {'spotify': 'https://open.spotify.com/user/spotify'},\n",
       "     'href': 'https://api.spotify.com/v1/users/spotify',\n",
       "     'id': 'spotify',\n",
       "     'type': 'user',\n",
       "     'uri': 'spotify:user:spotify'},\n",
       "    'primary_color': '#ffffff',\n",
       "    'public': True,\n",
       "    'snapshot_id': 'ZwiiwAAAAABx2q9w9HQrqM0pFSWVhai7',\n",
       "    'tracks': {'href': 'https://api.spotify.com/v1/playlists/37i9dQZF1DX8eMyhtzAuvp/tracks',\n",
       "     'total': 40},\n",
       "    'type': 'playlist',\n",
       "    'uri': 'spotify:playlist:37i9dQZF1DX8eMyhtzAuvp'},\n",
       "   {'collaborative': False,\n",
       "    'description': 'Falling leaves and cozy tunes. ',\n",
       "    'external_urls': {'spotify': 'https://open.spotify.com/playlist/37i9dQZF1DWUNIrSzKgQbP'},\n",
       "    'href': 'https://api.spotify.com/v1/playlists/37i9dQZF1DWUNIrSzKgQbP',\n",
       "    'id': '37i9dQZF1DWUNIrSzKgQbP',\n",
       "    'images': [{'height': None,\n",
       "      'url': 'https://i.scdn.co/image/ab67706f0000000224d9195acc28b8064832936c',\n",
       "      'width': None}],\n",
       "    'name': 'Autumn Acoustic',\n",
       "    'owner': {'display_name': 'Spotify',\n",
       "     'external_urls': {'spotify': 'https://open.spotify.com/user/spotify'},\n",
       "     'href': 'https://api.spotify.com/v1/users/spotify',\n",
       "     'id': 'spotify',\n",
       "     'type': 'user',\n",
       "     'uri': 'spotify:user:spotify'},\n",
       "    'primary_color': '#ffffff',\n",
       "    'public': True,\n",
       "    'snapshot_id': 'ZxHdQAAAAADPL8N34FNltJi81ZosNcTM',\n",
       "    'tracks': {'href': 'https://api.spotify.com/v1/playlists/37i9dQZF1DWUNIrSzKgQbP/tracks',\n",
       "     'total': 85},\n",
       "    'type': 'playlist',\n",
       "    'uri': 'spotify:playlist:37i9dQZF1DWUNIrSzKgQbP'}],\n",
       "  'limit': 20,\n",
       "  'next': 'https://api.spotify.com/v1/browse/featured-playlists?offset=20&limit=20',\n",
       "  'offset': 0,\n",
       "  'previous': None,\n",
       "  'total': 100}}"
      ]
     },
     "execution_count": 6,
     "metadata": {},
     "output_type": "execute_result"
    }
   ],
   "source": [
    "def get_featured_playlists(url: str, access_token: str, offset: int=0, limit: int=20, next: str=\"\") -> Dict[Any, Any]:\n",
    "    \"\"\"Perform get() request to featured playlists endpoint\n",
    "\n",
    "    Args:\n",
    "        url (str): Base url for the request\n",
    "        access_token (str): Access token\n",
    "        offset (int, optional): Page offset for pagination. Defaults to 0.\n",
    "        limit (int, optional): Number of elements per page. Defaults to 20.\n",
    "        next (str, optional): Next URL to perform next request. Defaults to \"\".\n",
    "\n",
    "    Returns:\n",
    "        Dict[Any, Any]: Request response\n",
    "    \"\"\"\n",
    "\n",
    "    if next == \"\":        \n",
    "        request_url = f\"{url}?offset={offset}&limit={limit}\"\n",
    "    else: \n",
    "        request_url = f\"{next}\"\n",
    "\n",
    "    ### START CODE HERE ### (~ 4 lines of code)\n",
    "    # Call get_auth_header() function and pass the access token.\n",
    "    headers = get_auth_header(access_token='BQCT_xD5pGiH8_0DYXc_Hh0qY1WLnyoRzwCDSucM_0u_t-mPB3UzZXg_ZknmZnasCZtmZ4eyoPm17rLfNYvbuu8ykK86froaOwaBH5eemlHfuj7n6DI')\n",
    "    \n",
    "    try: \n",
    "        # Perform a get() request using the request_url and headers.\n",
    "        response = requests.get(url=request_url, headers=headers)\n",
    "        # Use json() method over the response to return it as Python dictionary.\n",
    "        return response.json()\n",
    "    ### END CODE HERE ###\n",
    "    \n",
    "    except Exception as err:\n",
    "        print(f\"Error requesting data: {err}\")\n",
    "        return {'error': err}\n",
    "        \n",
    "URL_FEATURE_PLAYLISTS = \"https://api.spotify.com/v1/browse/featured-playlists\"\n",
    "\n",
    "# Note: the `access_token` value from the dictionary `token` can be retrieved either using `get()` method or dictionary syntax `token['access_token']`\n",
    "playlists_response = get_featured_playlists(url=URL_FEATURE_PLAYLISTS, access_token=token.get('access_token'))\n",
    "playlists_response"
   ]
  },
  {
   "cell_type": "markdown",
   "metadata": {},
   "source": [
    "The result you get is a JSON object that was transformed into a python dictionary. You can explore the structure of the response you get:"
   ]
  },
  {
   "cell_type": "code",
   "execution_count": 7,
   "metadata": {},
   "outputs": [
    {
     "data": {
      "text/plain": [
       "dict_keys(['message', 'playlists'])"
      ]
     },
     "execution_count": 7,
     "metadata": {},
     "output_type": "execute_result"
    }
   ],
   "source": [
    "playlists_response.keys()"
   ]
  },
  {
   "cell_type": "code",
   "execution_count": 8,
   "metadata": {},
   "outputs": [
    {
     "data": {
      "text/plain": [
       "dict_keys(['href', 'items', 'limit', 'next', 'offset', 'previous', 'total'])"
      ]
     },
     "execution_count": 8,
     "metadata": {},
     "output_type": "execute_result"
    }
   ],
   "source": [
    "playlists_response.get('playlists').keys()"
   ]
  },
  {
   "cell_type": "markdown",
   "metadata": {},
   "source": [
    "Each API manages responses in its own way so it is highly recommended to read the documentation and understand the nuances behind the API endpoints you are working with. In this case, you see some fields such as `'href'` under the `'playlists'` field, which tells you the URL used for the request you just sent."
   ]
  },
  {
   "cell_type": "code",
   "execution_count": 9,
   "metadata": {},
   "outputs": [
    {
     "data": {
      "text/plain": [
       "'https://api.spotify.com/v1/browse/featured-playlists?offset=0&limit=20'"
      ]
     },
     "execution_count": 9,
     "metadata": {},
     "output_type": "execute_result"
    }
   ],
   "source": [
    "playlists_response.get('playlists').get('href')"
   ]
  },
  {
   "cell_type": "markdown",
   "metadata": {},
   "source": [
    "You can see that there are two parameters: `offset` and `limit` that were added to the endpoint. Those parameters are the base of pagination in this API endpoint. We will take a look at them later. \n",
    "\n",
    "You can also explore the returned items using the `'items'` field under `'playlists'`. This will return a list of items, you can take a look at the number of items returned:"
   ]
  },
  {
   "cell_type": "code",
   "execution_count": 10,
   "metadata": {},
   "outputs": [
    {
     "data": {
      "text/plain": [
       "20"
      ]
     },
     "execution_count": 10,
     "metadata": {},
     "output_type": "execute_result"
    }
   ],
   "source": [
    "len(playlists_response.get('playlists').get('items'))"
   ]
  },
  {
   "cell_type": "markdown",
   "metadata": {},
   "source": [
    "Explore the items:"
   ]
  },
  {
   "cell_type": "code",
   "execution_count": 11,
   "metadata": {},
   "outputs": [
    {
     "data": {
      "text/plain": [
       "{'collaborative': False,\n",
       " 'description': 'The hottest 50. Cover: ROSÉ & Bruno Mars',\n",
       " 'external_urls': {'spotify': 'https://open.spotify.com/playlist/37i9dQZF1DXcBWIGoYBM5M'},\n",
       " 'href': 'https://api.spotify.com/v1/playlists/37i9dQZF1DXcBWIGoYBM5M',\n",
       " 'id': '37i9dQZF1DXcBWIGoYBM5M',\n",
       " 'images': [{'height': None,\n",
       "   'url': 'https://i.scdn.co/image/ab67706f0000000254300210e0f8fa40dfa35bd4',\n",
       "   'width': None}],\n",
       " 'name': 'Today’s Top Hits',\n",
       " 'owner': {'display_name': 'Spotify',\n",
       "  'external_urls': {'spotify': 'https://open.spotify.com/user/spotify'},\n",
       "  'href': 'https://api.spotify.com/v1/users/spotify',\n",
       "  'id': 'spotify',\n",
       "  'type': 'user',\n",
       "  'uri': 'spotify:user:spotify'},\n",
       " 'primary_color': '#FFFFFF',\n",
       " 'public': True,\n",
       " 'snapshot_id': 'ZxvjXgAAAABJM41CaGY2VJBOFycN2W+k',\n",
       " 'tracks': {'href': 'https://api.spotify.com/v1/playlists/37i9dQZF1DXcBWIGoYBM5M/tracks',\n",
       "  'total': 50},\n",
       " 'type': 'playlist',\n",
       " 'uri': 'spotify:playlist:37i9dQZF1DXcBWIGoYBM5M'}"
      ]
     },
     "execution_count": 11,
     "metadata": {},
     "output_type": "execute_result"
    }
   ],
   "source": [
    "playlists_response.get('playlists').get('items')[0]"
   ]
  },
  {
   "cell_type": "markdown",
   "metadata": {},
   "source": [
    "<a name='2.3'></a>\n",
    "### 2.3 - Pagination\n",
    "\n",
    "At the end of `playlists_response`, you can see the following fields:\n",
    "\n",
    "```json\n",
    "{\n",
    "...,\n",
    "'limit': 20,\n",
    "'next': 'https://api.spotify.com/v1/browse/featured-playlists?offset=20&limit=20',\n",
    "'offset': 0,\n",
    "'previous': None,\n",
    "'total': 100\n",
    "}\n",
    "```\n",
    "\n",
    "Although there is a total of 100 available items to be returned, only 20 were returned. This is established by the `limit` parameter and those were the 20 items you just counted before. This limit on the number of elements returned is a common feature of several APIs and although in some cases you can modify such a limit, a good practice is to use it with **pagination** to get all the elements that can be returned. \n",
    "\n",
    "Each API handles pagination differently. For Spotify, the requests response provides you with two fields that allow you to query the different pages of your request: `previous` and `next`. These two fields will return the URL to the previous or next page respectively and they are based on the `offset` and `limit` parameters. In this case, there are two ways for you to explore the rest of the data:\n",
    "\n",
    "- you can use the value from the next parameter to get the direct URL for the next page of requests, or \n",
    "- you can build the URL for the next page from scratch using the offset and limit parameters (make sure to update the offset parameter for the request). \n",
    "\n",
    "For the sake of learning, you will use method 2 to build the URL yourself. Then you will also compare it with the result from using the first method just to check that you created the URL correctly.\n",
    "\n",
    "Before creating a function that will allow you to paginate, let's try to do it manually. If you compare the URLs provided by the `href` and `next` fields, you can see that while the `limit` parameter remains the same, the `offset` parameter has increased with the same value as the one stored in `limit`.\n",
    "\n",
    "```json\n",
    "{\n",
    "...,\n",
    "'href': 'https://api.spotify.com/v1/browse/featured-playlists?offset=0&limit=20',\n",
    "...,\n",
    "'next': 'https://api.spotify.com/v1/browse/featured-playlists?offset=20&limit=20',\n",
    "...\n",
    "}\n",
    "```\n",
    "\n",
    "So for our next call, let's pass 20 to `offset` and keep `limit` as 20:"
   ]
  },
  {
   "cell_type": "code",
   "execution_count": 12,
   "metadata": {},
   "outputs": [],
   "source": [
    "next_playlists_response = get_featured_playlists(url=URL_FEATURE_PLAYLISTS, access_token=token.get('access_token'), offset=20, limit=20)"
   ]
  },
  {
   "cell_type": "markdown",
   "metadata": {},
   "source": [
    "Check the values for `href` and `next` in the new response `next_playlists_response`:"
   ]
  },
  {
   "cell_type": "code",
   "execution_count": 13,
   "metadata": {},
   "outputs": [
    {
     "data": {
      "text/plain": [
       "'https://api.spotify.com/v1/browse/featured-playlists?offset=20&limit=20'"
      ]
     },
     "execution_count": 13,
     "metadata": {},
     "output_type": "execute_result"
    }
   ],
   "source": [
    "next_playlists_response.get('playlists').get('href')"
   ]
  },
  {
   "cell_type": "code",
   "execution_count": 14,
   "metadata": {},
   "outputs": [
    {
     "data": {
      "text/plain": [
       "'https://api.spotify.com/v1/browse/featured-playlists?offset=40&limit=20'"
      ]
     },
     "execution_count": 14,
     "metadata": {},
     "output_type": "execute_result"
    }
   ],
   "source": [
    "next_playlists_response.get('playlists').get('next')"
   ]
  },
  {
   "cell_type": "markdown",
   "metadata": {},
   "source": [
    "Given these results, you can see that the `offset` increases by the value of the `limit`. As the responses show that the `total` value is 100, this means that you can access the last page of responses by using an `offset` of 80, while keeping the `limit` value as 20."
   ]
  },
  {
   "cell_type": "code",
   "execution_count": 15,
   "metadata": {},
   "outputs": [
    {
     "data": {
      "text/plain": [
       "{'message': 'Popular Playlists',\n",
       " 'playlists': {'href': 'https://api.spotify.com/v1/browse/featured-playlists?offset=80&limit=20',\n",
       "  'items': [{'collaborative': False,\n",
       "    'description': 'Jazz that captures the essence of autumn.',\n",
       "    'external_urls': {'spotify': 'https://open.spotify.com/playlist/37i9dQZF1DX7UE7qrnkvsf'},\n",
       "    'href': 'https://api.spotify.com/v1/playlists/37i9dQZF1DX7UE7qrnkvsf',\n",
       "    'id': '37i9dQZF1DX7UE7qrnkvsf',\n",
       "    'images': [{'height': None,\n",
       "      'url': 'https://i.scdn.co/image/ab67706f0000000216229bac9ffdde01c45bb57c',\n",
       "      'width': None}],\n",
       "    'name': 'Jazz for Autumn',\n",
       "    'owner': {'display_name': 'Spotify',\n",
       "     'external_urls': {'spotify': 'https://open.spotify.com/user/spotify'},\n",
       "     'href': 'https://api.spotify.com/v1/users/spotify',\n",
       "     'id': 'spotify',\n",
       "     'type': 'user',\n",
       "     'uri': 'spotify:user:spotify'},\n",
       "    'primary_color': '#ffffff',\n",
       "    'public': True,\n",
       "    'snapshot_id': 'ZxZBZwAAAADB3AoM3la8EADcdCQ0jW0i',\n",
       "    'tracks': {'href': 'https://api.spotify.com/v1/playlists/37i9dQZF1DX7UE7qrnkvsf/tracks',\n",
       "     'total': 405},\n",
       "    'type': 'playlist',\n",
       "    'uri': 'spotify:playlist:37i9dQZF1DX7UE7qrnkvsf'},\n",
       "   {'collaborative': False,\n",
       "    'description': \"Get happy with today's dose of feel-good songs!\",\n",
       "    'external_urls': {'spotify': 'https://open.spotify.com/playlist/37i9dQZF1DX3rxVfibe1L0'},\n",
       "    'href': 'https://api.spotify.com/v1/playlists/37i9dQZF1DX3rxVfibe1L0',\n",
       "    'id': '37i9dQZF1DX3rxVfibe1L0',\n",
       "    'images': [{'height': None,\n",
       "      'url': 'https://i.scdn.co/image/ab67706f000000028191cc41d8585df6170b3e5e',\n",
       "      'width': None}],\n",
       "    'name': 'Mood Booster',\n",
       "    'owner': {'display_name': 'Spotify',\n",
       "     'external_urls': {'spotify': 'https://open.spotify.com/user/spotify'},\n",
       "     'href': 'https://api.spotify.com/v1/users/spotify',\n",
       "     'id': 'spotify',\n",
       "     'type': 'user',\n",
       "     'uri': 'spotify:user:spotify'},\n",
       "    'primary_color': '#FFc864',\n",
       "    'public': True,\n",
       "    'snapshot_id': 'ZxsXwAAAAAAtAsuvhQtiFoqXiCV8Yp3V',\n",
       "    'tracks': {'href': 'https://api.spotify.com/v1/playlists/37i9dQZF1DX3rxVfibe1L0/tracks',\n",
       "     'total': 85},\n",
       "    'type': 'playlist',\n",
       "    'uri': 'spotify:playlist:37i9dQZF1DX3rxVfibe1L0'},\n",
       "   {'collaborative': False,\n",
       "    'description': \"There's a new way to be wicked. Listen to all the music from Descendants, including Descendants: The Rise of Red. \",\n",
       "    'external_urls': {'spotify': 'https://open.spotify.com/playlist/37i9dQZF1DX73LI7XFaKDi'},\n",
       "    'href': 'https://api.spotify.com/v1/playlists/37i9dQZF1DX73LI7XFaKDi',\n",
       "    'id': '37i9dQZF1DX73LI7XFaKDi',\n",
       "    'images': [{'height': None,\n",
       "      'url': 'https://i.scdn.co/image/ab67706f00000002db7d9f9895d6a6d794822c34',\n",
       "      'width': None}],\n",
       "    'name': 'Descendants Official Playlist',\n",
       "    'owner': {'display_name': 'Spotify',\n",
       "     'external_urls': {'spotify': 'https://open.spotify.com/user/spotify'},\n",
       "     'href': 'https://api.spotify.com/v1/users/spotify',\n",
       "     'id': 'spotify',\n",
       "     'type': 'user',\n",
       "     'uri': 'spotify:user:spotify'},\n",
       "    'primary_color': '#ffffff',\n",
       "    'public': True,\n",
       "    'snapshot_id': 'ZuzzQAAAAABjsk/GbuJ++uxAj22gJE3P',\n",
       "    'tracks': {'href': 'https://api.spotify.com/v1/playlists/37i9dQZF1DX73LI7XFaKDi/tracks',\n",
       "     'total': 77},\n",
       "    'type': 'playlist',\n",
       "    'uri': 'spotify:playlist:37i9dQZF1DX73LI7XFaKDi'},\n",
       "   {'collaborative': False,\n",
       "    'description': 'This is $uicideboy$. The essential tracks, all in one playlist.',\n",
       "    'external_urls': {'spotify': 'https://open.spotify.com/playlist/37i9dQZF1DZ06evO15CHq8'},\n",
       "    'href': 'https://api.spotify.com/v1/playlists/37i9dQZF1DZ06evO15CHq8',\n",
       "    'id': '37i9dQZF1DZ06evO15CHq8',\n",
       "    'images': [{'height': None,\n",
       "      'url': 'https://thisis-images.spotifycdn.com/37i9dQZF1DZ06evO15CHq8-default.jpg',\n",
       "      'width': None}],\n",
       "    'name': 'This Is $uicideboy$',\n",
       "    'owner': {'display_name': 'Spotify',\n",
       "     'external_urls': {'spotify': 'https://open.spotify.com/user/spotify'},\n",
       "     'href': 'https://api.spotify.com/v1/users/spotify',\n",
       "     'id': 'spotify',\n",
       "     'type': 'user',\n",
       "     'uri': 'spotify:user:spotify'},\n",
       "    'primary_color': None,\n",
       "    'public': True,\n",
       "    'snapshot_id': 'Zx7UAAAAAAAedTs4EJy2IcgteRFnUbrm',\n",
       "    'tracks': {'href': 'https://api.spotify.com/v1/playlists/37i9dQZF1DZ06evO15CHq8/tracks',\n",
       "     'total': 49},\n",
       "    'type': 'playlist',\n",
       "    'uri': 'spotify:playlist:37i9dQZF1DZ06evO15CHq8'},\n",
       "   {'collaborative': False,\n",
       "    'description': 'A decade full of 00s country hits! Cover: Rascal Flatts',\n",
       "    'external_urls': {'spotify': 'https://open.spotify.com/playlist/37i9dQZF1DXdxUH6sNtcDe'},\n",
       "    'href': 'https://api.spotify.com/v1/playlists/37i9dQZF1DXdxUH6sNtcDe',\n",
       "    'id': '37i9dQZF1DXdxUH6sNtcDe',\n",
       "    'images': [{'height': None,\n",
       "      'url': 'https://i.scdn.co/image/ab67706f00000002481a29328534005d5b2d85a2',\n",
       "      'width': None}],\n",
       "    'name': '2000s Country',\n",
       "    'owner': {'display_name': 'Spotify',\n",
       "     'external_urls': {'spotify': 'https://open.spotify.com/user/spotify'},\n",
       "     'href': 'https://api.spotify.com/v1/users/spotify',\n",
       "     'id': 'spotify',\n",
       "     'type': 'user',\n",
       "     'uri': 'spotify:user:spotify'},\n",
       "    'primary_color': '#ffffff',\n",
       "    'public': True,\n",
       "    'snapshot_id': 'Ztp9PgAAAAAH2gwEG2FAqqz1ewXJ0KUs',\n",
       "    'tracks': {'href': 'https://api.spotify.com/v1/playlists/37i9dQZF1DXdxUH6sNtcDe/tracks',\n",
       "     'total': 125},\n",
       "    'type': 'playlist',\n",
       "    'uri': 'spotify:playlist:37i9dQZF1DXdxUH6sNtcDe'},\n",
       "   {'collaborative': False,\n",
       "    'description': 'The biggest songs of the 1990s. Cover: The Cardigans',\n",
       "    'external_urls': {'spotify': 'https://open.spotify.com/playlist/37i9dQZF1DXbTxeAdrVG2l'},\n",
       "    'href': 'https://api.spotify.com/v1/playlists/37i9dQZF1DXbTxeAdrVG2l',\n",
       "    'id': '37i9dQZF1DXbTxeAdrVG2l',\n",
       "    'images': [{'height': None,\n",
       "      'url': 'https://i.scdn.co/image/ab67706f00000002b60e6f68fd3a593011380bf8',\n",
       "      'width': None}],\n",
       "    'name': 'All Out 90s',\n",
       "    'owner': {'display_name': 'Spotify',\n",
       "     'external_urls': {'spotify': 'https://open.spotify.com/user/spotify'},\n",
       "     'href': 'https://api.spotify.com/v1/users/spotify',\n",
       "     'id': 'spotify',\n",
       "     'type': 'user',\n",
       "     'uri': 'spotify:user:spotify'},\n",
       "    'primary_color': '#ffffff',\n",
       "    'public': True,\n",
       "    'snapshot_id': 'ZxZkxQAAAACX2h+3ecdog1Gkebun2c0+',\n",
       "    'tracks': {'href': 'https://api.spotify.com/v1/playlists/37i9dQZF1DXbTxeAdrVG2l/tracks',\n",
       "     'total': 150},\n",
       "    'type': 'playlist',\n",
       "    'uri': 'spotify:playlist:37i9dQZF1DXbTxeAdrVG2l'},\n",
       "   {'collaborative': False,\n",
       "    'description': 'resurging tracks coming in hot. cover: Michael Jackson  in his \"Thriller\" era ',\n",
       "    'external_urls': {'spotify': 'https://open.spotify.com/playlist/37i9dQZF1DWYPhtvsbr1Fn'},\n",
       "    'href': 'https://api.spotify.com/v1/playlists/37i9dQZF1DWYPhtvsbr1Fn',\n",
       "    'id': '37i9dQZF1DWYPhtvsbr1Fn',\n",
       "    'images': [{'height': None,\n",
       "      'url': 'https://i.scdn.co/image/ab67706f000000025fea46adccb58ab2d5c356e7',\n",
       "      'width': None}],\n",
       "    'name': 'reheat',\n",
       "    'owner': {'display_name': 'Spotify',\n",
       "     'external_urls': {'spotify': 'https://open.spotify.com/user/spotify'},\n",
       "     'href': 'https://api.spotify.com/v1/users/spotify',\n",
       "     'id': 'spotify',\n",
       "     'type': 'user',\n",
       "     'uri': 'spotify:user:spotify'},\n",
       "    'primary_color': '#ffffff',\n",
       "    'public': True,\n",
       "    'snapshot_id': 'Zxl8IgAAAADdIu0MUy6wvCeoGQrjKUS/',\n",
       "    'tracks': {'href': 'https://api.spotify.com/v1/playlists/37i9dQZF1DWYPhtvsbr1Fn/tracks',\n",
       "     'total': 50},\n",
       "    'type': 'playlist',\n",
       "    'uri': 'spotify:playlist:37i9dQZF1DWYPhtvsbr1Fn'},\n",
       "   {'collaborative': False,\n",
       "    'description': 'This is Chappell Roan. The essential tracks, all in one playlist.',\n",
       "    'external_urls': {'spotify': 'https://open.spotify.com/playlist/37i9dQZF1DZ06evO4y92Yr'},\n",
       "    'href': 'https://api.spotify.com/v1/playlists/37i9dQZF1DZ06evO4y92Yr',\n",
       "    'id': '37i9dQZF1DZ06evO4y92Yr',\n",
       "    'images': [{'height': None,\n",
       "      'url': 'https://thisis-images.spotifycdn.com/37i9dQZF1DZ06evO4y92Yr-default.jpg',\n",
       "      'width': None}],\n",
       "    'name': 'This Is Chappell Roan',\n",
       "    'owner': {'display_name': 'Spotify',\n",
       "     'external_urls': {'spotify': 'https://open.spotify.com/user/spotify'},\n",
       "     'href': 'https://api.spotify.com/v1/users/spotify',\n",
       "     'id': 'spotify',\n",
       "     'type': 'user',\n",
       "     'uri': 'spotify:user:spotify'},\n",
       "    'primary_color': None,\n",
       "    'public': True,\n",
       "    'snapshot_id': 'Zx7UAAAAAACzNT9VjUW0d2ivs6GJTaGY',\n",
       "    'tracks': {'href': 'https://api.spotify.com/v1/playlists/37i9dQZF1DZ06evO4y92Yr/tracks',\n",
       "     'total': 15},\n",
       "    'type': 'playlist',\n",
       "    'uri': 'spotify:playlist:37i9dQZF1DZ06evO4y92Yr'},\n",
       "   {'collaborative': False,\n",
       "    'description': 'Splash and sing-along.',\n",
       "    'external_urls': {'spotify': 'https://open.spotify.com/playlist/37i9dQZF1DWSqmBTGDYngZ'},\n",
       "    'href': 'https://api.spotify.com/v1/playlists/37i9dQZF1DWSqmBTGDYngZ',\n",
       "    'id': '37i9dQZF1DWSqmBTGDYngZ',\n",
       "    'images': [{'height': None,\n",
       "      'url': 'https://i.scdn.co/image/ab67706f00000002b4fc8034217025210cc630c1',\n",
       "      'width': None}],\n",
       "    'name': 'Songs to Sing in the Shower',\n",
       "    'owner': {'display_name': 'Spotify',\n",
       "     'external_urls': {'spotify': 'https://open.spotify.com/user/spotify'},\n",
       "     'href': 'https://api.spotify.com/v1/users/spotify',\n",
       "     'id': 'spotify',\n",
       "     'type': 'user',\n",
       "     'uri': 'spotify:user:spotify'},\n",
       "    'primary_color': '#ffffff',\n",
       "    'public': True,\n",
       "    'snapshot_id': 'ZwlQdwAAAABS1bi24lGFIFW1TscX7zva',\n",
       "    'tracks': {'href': 'https://api.spotify.com/v1/playlists/37i9dQZF1DWSqmBTGDYngZ/tracks',\n",
       "     'total': 200},\n",
       "    'type': 'playlist',\n",
       "    'uri': 'spotify:playlist:37i9dQZF1DWSqmBTGDYngZ'},\n",
       "   {'collaborative': False,\n",
       "    'description': 'quiet hallways, dusty sunlight, cosy sweaters, and hot tea',\n",
       "    'external_urls': {'spotify': 'https://open.spotify.com/playlist/37i9dQZF1DX17GkScaAekA'},\n",
       "    'href': 'https://api.spotify.com/v1/playlists/37i9dQZF1DX17GkScaAekA',\n",
       "    'id': '37i9dQZF1DX17GkScaAekA',\n",
       "    'images': [{'height': None,\n",
       "      'url': 'https://i.scdn.co/image/ab67706f0000000252b2a52d3e41e73f5f318ce7',\n",
       "      'width': None}],\n",
       "    'name': 'Dark Academia Classical',\n",
       "    'owner': {'display_name': 'Spotify',\n",
       "     'external_urls': {'spotify': 'https://open.spotify.com/user/spotify'},\n",
       "     'href': 'https://api.spotify.com/v1/users/spotify',\n",
       "     'id': 'spotify',\n",
       "     'type': 'user',\n",
       "     'uri': 'spotify:user:spotify'},\n",
       "    'primary_color': '#ffffff',\n",
       "    'public': True,\n",
       "    'snapshot_id': 'Zv0ZagAAAAAojbiYNtEP3aSaYmOwCKEl',\n",
       "    'tracks': {'href': 'https://api.spotify.com/v1/playlists/37i9dQZF1DX17GkScaAekA/tracks',\n",
       "     'total': 89},\n",
       "    'type': 'playlist',\n",
       "    'uri': 'spotify:playlist:37i9dQZF1DX17GkScaAekA'},\n",
       "   {'collaborative': False,\n",
       "    'description': 'every main character needs their soundtrack. ',\n",
       "    'external_urls': {'spotify': 'https://open.spotify.com/playlist/37i9dQZF1DX4OzrY981I1W'},\n",
       "    'href': 'https://api.spotify.com/v1/playlists/37i9dQZF1DX4OzrY981I1W',\n",
       "    'id': '37i9dQZF1DX4OzrY981I1W',\n",
       "    'images': [{'height': None,\n",
       "      'url': 'https://i.scdn.co/image/ab67706f00000002e17b5860679bd13318e51cc4',\n",
       "      'width': None}],\n",
       "    'name': 'my life is a movie',\n",
       "    'owner': {'display_name': 'Spotify',\n",
       "     'external_urls': {'spotify': 'https://open.spotify.com/user/spotify'},\n",
       "     'href': 'https://api.spotify.com/v1/users/spotify',\n",
       "     'id': 'spotify',\n",
       "     'type': 'user',\n",
       "     'uri': 'spotify:user:spotify'},\n",
       "    'primary_color': '#ffffff',\n",
       "    'public': True,\n",
       "    'snapshot_id': 'Zxu94wAAAAAgCSbA0pk1dEOkBNg1hMoo',\n",
       "    'tracks': {'href': 'https://api.spotify.com/v1/playlists/37i9dQZF1DX4OzrY981I1W/tracks',\n",
       "     'total': 100},\n",
       "    'type': 'playlist',\n",
       "    'uri': 'spotify:playlist:37i9dQZF1DX4OzrY981I1W'},\n",
       "   {'collaborative': False,\n",
       "    'description': \"Use Delta frequencies for the best night's sleep. \",\n",
       "    'external_urls': {'spotify': 'https://open.spotify.com/playlist/37i9dQZF1DWYILo9WhOOw6'},\n",
       "    'href': 'https://api.spotify.com/v1/playlists/37i9dQZF1DWYILo9WhOOw6',\n",
       "    'id': '37i9dQZF1DWYILo9WhOOw6',\n",
       "    'images': [{'height': None,\n",
       "      'url': 'https://i.scdn.co/image/ab67706f00000002c2d752b582aab9ecb6f09f01',\n",
       "      'width': None}],\n",
       "    'name': 'Binaural Beats: Deeper Sleep',\n",
       "    'owner': {'display_name': 'Spotify',\n",
       "     'external_urls': {'spotify': 'https://open.spotify.com/user/spotify'},\n",
       "     'href': 'https://api.spotify.com/v1/users/spotify',\n",
       "     'id': 'spotify',\n",
       "     'type': 'user',\n",
       "     'uri': 'spotify:user:spotify'},\n",
       "    'primary_color': '#ffffff',\n",
       "    'public': True,\n",
       "    'snapshot_id': 'ZxY9FwAAAACkg6KHGERDU7EMgabdnAvL',\n",
       "    'tracks': {'href': 'https://api.spotify.com/v1/playlists/37i9dQZF1DWYILo9WhOOw6/tracks',\n",
       "     'total': 123},\n",
       "    'type': 'playlist',\n",
       "    'uri': 'spotify:playlist:37i9dQZF1DWYILo9WhOOw6'},\n",
       "   {'collaborative': False,\n",
       "    'description': 'Need to get your energy level up? This will help!',\n",
       "    'external_urls': {'spotify': 'https://open.spotify.com/playlist/37i9dQZF1DWXLSRKeL7KwM'},\n",
       "    'href': 'https://api.spotify.com/v1/playlists/37i9dQZF1DWXLSRKeL7KwM',\n",
       "    'id': '37i9dQZF1DWXLSRKeL7KwM',\n",
       "    'images': [{'height': None,\n",
       "      'url': 'https://i.scdn.co/image/ab67706f00000002e71156e881c2487027f488d1',\n",
       "      'width': None}],\n",
       "    'name': 'Energy Booster: Country',\n",
       "    'owner': {'display_name': 'Spotify',\n",
       "     'external_urls': {'spotify': 'https://open.spotify.com/user/spotify'},\n",
       "     'href': 'https://api.spotify.com/v1/users/spotify',\n",
       "     'id': 'spotify',\n",
       "     'type': 'user',\n",
       "     'uri': 'spotify:user:spotify'},\n",
       "    'primary_color': '#ffffff',\n",
       "    'public': True,\n",
       "    'snapshot_id': 'Zr7OwAAAAACroBY/LsvRGZ0r+AUC3wxE',\n",
       "    'tracks': {'href': 'https://api.spotify.com/v1/playlists/37i9dQZF1DWXLSRKeL7KwM/tracks',\n",
       "     'total': 100},\n",
       "    'type': 'playlist',\n",
       "    'uri': 'spotify:playlist:37i9dQZF1DWXLSRKeL7KwM'},\n",
       "   {'collaborative': False,\n",
       "    'description': 'all cruise, no breaks ',\n",
       "    'external_urls': {'spotify': 'https://open.spotify.com/playlist/37i9dQZF1DX5DYkVgiO6RF'},\n",
       "    'href': 'https://api.spotify.com/v1/playlists/37i9dQZF1DX5DYkVgiO6RF',\n",
       "    'id': '37i9dQZF1DX5DYkVgiO6RF',\n",
       "    'images': [{'height': None,\n",
       "      'url': 'https://i.scdn.co/image/ab67706f0000000245472877debe4db97c012173',\n",
       "      'width': None}],\n",
       "    'name': 'Night Drive',\n",
       "    'owner': {'display_name': 'Spotify',\n",
       "     'external_urls': {'spotify': 'https://open.spotify.com/user/spotify'},\n",
       "     'href': 'https://api.spotify.com/v1/users/spotify',\n",
       "     'id': 'spotify',\n",
       "     'type': 'user',\n",
       "     'uri': 'spotify:user:spotify'},\n",
       "    'primary_color': '#ffffff',\n",
       "    'public': True,\n",
       "    'snapshot_id': 'ZxHdQAAAAADSfbg1vlTYZ0PwMZWZNoak',\n",
       "    'tracks': {'href': 'https://api.spotify.com/v1/playlists/37i9dQZF1DX5DYkVgiO6RF/tracks',\n",
       "     'total': 50},\n",
       "    'type': 'playlist',\n",
       "    'uri': 'spotify:playlist:37i9dQZF1DX5DYkVgiO6RF'},\n",
       "   {'collaborative': False,\n",
       "    'description': \"Hear all of Drake's biggest and best hits in one playlist. Thank us later.\",\n",
       "    'external_urls': {'spotify': 'https://open.spotify.com/playlist/37i9dQZF1DX7QOv5kjbU68'},\n",
       "    'href': 'https://api.spotify.com/v1/playlists/37i9dQZF1DX7QOv5kjbU68',\n",
       "    'id': '37i9dQZF1DX7QOv5kjbU68',\n",
       "    'images': [{'height': None,\n",
       "      'url': 'https://i.scdn.co/image/ab67706f0000000287bff188c40608c48b82068f',\n",
       "      'width': None}],\n",
       "    'name': 'This Is Drake',\n",
       "    'owner': {'display_name': 'Spotify',\n",
       "     'external_urls': {'spotify': 'https://open.spotify.com/user/spotify'},\n",
       "     'href': 'https://api.spotify.com/v1/users/spotify',\n",
       "     'id': 'spotify',\n",
       "     'type': 'user',\n",
       "     'uri': 'spotify:user:spotify'},\n",
       "    'primary_color': '#ffffff',\n",
       "    'public': True,\n",
       "    'snapshot_id': 'ZtM/oQAAAABANSUVr13mEQdiAyB5pKAZ',\n",
       "    'tracks': {'href': 'https://api.spotify.com/v1/playlists/37i9dQZF1DX7QOv5kjbU68/tracks',\n",
       "     'total': 140},\n",
       "    'type': 'playlist',\n",
       "    'uri': 'spotify:playlist:37i9dQZF1DX7QOv5kjbU68'},\n",
       "   {'collaborative': False,\n",
       "    'description': 'The best tunes in Jazz history. Cover: Wayne Shorter',\n",
       "    'external_urls': {'spotify': 'https://open.spotify.com/playlist/37i9dQZF1DXbITWG1ZJKYt'},\n",
       "    'href': 'https://api.spotify.com/v1/playlists/37i9dQZF1DXbITWG1ZJKYt',\n",
       "    'id': '37i9dQZF1DXbITWG1ZJKYt',\n",
       "    'images': [{'height': None,\n",
       "      'url': 'https://i.scdn.co/image/ab67706f00000002d6717501a3dc7fdef7aa1694',\n",
       "      'width': None}],\n",
       "    'name': 'Jazz Classics',\n",
       "    'owner': {'display_name': 'Spotify',\n",
       "     'external_urls': {'spotify': 'https://open.spotify.com/user/spotify'},\n",
       "     'href': 'https://api.spotify.com/v1/users/spotify',\n",
       "     'id': 'spotify',\n",
       "     'type': 'user',\n",
       "     'uri': 'spotify:user:spotify'},\n",
       "    'primary_color': '#ffffff',\n",
       "    'public': True,\n",
       "    'snapshot_id': 'ZpepPgAAAADX/rQ5b9cFldm7RqoWFQtC',\n",
       "    'tracks': {'href': 'https://api.spotify.com/v1/playlists/37i9dQZF1DXbITWG1ZJKYt/tracks',\n",
       "     'total': 250},\n",
       "    'type': 'playlist',\n",
       "    'uri': 'spotify:playlist:37i9dQZF1DXbITWG1ZJKYt'},\n",
       "   {'collaborative': False,\n",
       "    'description': 'Curl up in your favorite spot with some sweet, mellow tunes...',\n",
       "    'external_urls': {'spotify': 'https://open.spotify.com/playlist/37i9dQZF1DX6ziVCJnEm59'},\n",
       "    'href': 'https://api.spotify.com/v1/playlists/37i9dQZF1DX6ziVCJnEm59',\n",
       "    'id': '37i9dQZF1DX6ziVCJnEm59',\n",
       "    'images': [{'height': None,\n",
       "      'url': 'https://i.scdn.co/image/ab67706f00000002162cd5179565725e7a1b5ac2',\n",
       "      'width': None}],\n",
       "    'name': 'Your Favorite Coffeehouse',\n",
       "    'owner': {'display_name': 'Spotify',\n",
       "     'external_urls': {'spotify': 'https://open.spotify.com/user/spotify'},\n",
       "     'href': 'https://api.spotify.com/v1/users/spotify',\n",
       "     'id': 'spotify',\n",
       "     'type': 'user',\n",
       "     'uri': 'spotify:user:spotify'},\n",
       "    'primary_color': '#ffffff',\n",
       "    'public': True,\n",
       "    'snapshot_id': 'ZsyLrQAAAACJ4YEinSRD4l8pfrNLL6/q',\n",
       "    'tracks': {'href': 'https://api.spotify.com/v1/playlists/37i9dQZF1DX6ziVCJnEm59/tracks',\n",
       "     'total': 140},\n",
       "    'type': 'playlist',\n",
       "    'uri': 'spotify:playlist:37i9dQZF1DX6ziVCJnEm59'},\n",
       "   {'collaborative': False,\n",
       "    'description': 'This is Jelly Roll. The essential tracks, all in one playlist.',\n",
       "    'external_urls': {'spotify': 'https://open.spotify.com/playlist/37i9dQZF1DZ06evO0Crktg'},\n",
       "    'href': 'https://api.spotify.com/v1/playlists/37i9dQZF1DZ06evO0Crktg',\n",
       "    'id': '37i9dQZF1DZ06evO0Crktg',\n",
       "    'images': [{'height': None,\n",
       "      'url': 'https://thisis-images.spotifycdn.com/37i9dQZF1DZ06evO0Crktg-default.jpg',\n",
       "      'width': None}],\n",
       "    'name': 'This Is Jelly Roll',\n",
       "    'owner': {'display_name': 'Spotify',\n",
       "     'external_urls': {'spotify': 'https://open.spotify.com/user/spotify'},\n",
       "     'href': 'https://api.spotify.com/v1/users/spotify',\n",
       "     'id': 'spotify',\n",
       "     'type': 'user',\n",
       "     'uri': 'spotify:user:spotify'},\n",
       "    'primary_color': None,\n",
       "    'public': True,\n",
       "    'snapshot_id': 'Zx7UAAAAAABx90pKGepPDBRwjMVogRc1',\n",
       "    'tracks': {'href': 'https://api.spotify.com/v1/playlists/37i9dQZF1DZ06evO0Crktg/tracks',\n",
       "     'total': 52},\n",
       "    'type': 'playlist',\n",
       "    'uri': 'spotify:playlist:37i9dQZF1DZ06evO0Crktg'},\n",
       "   {'collaborative': False,\n",
       "    'description': \"A selection of the greatest classical tunes; the perfect starting point for anyone who's keen to explore the world of classical music.\",\n",
       "    'external_urls': {'spotify': 'https://open.spotify.com/playlist/37i9dQZF1DWWEJlAGA9gs0'},\n",
       "    'href': 'https://api.spotify.com/v1/playlists/37i9dQZF1DWWEJlAGA9gs0',\n",
       "    'id': '37i9dQZF1DWWEJlAGA9gs0',\n",
       "    'images': [{'height': None,\n",
       "      'url': 'https://i.scdn.co/image/ab67706f00000002762f5045eac92a372596acca',\n",
       "      'width': None}],\n",
       "    'name': 'Classical Essentials',\n",
       "    'owner': {'display_name': 'Spotify',\n",
       "     'external_urls': {'spotify': 'https://open.spotify.com/user/spotify'},\n",
       "     'href': 'https://api.spotify.com/v1/users/spotify',\n",
       "     'id': 'spotify',\n",
       "     'type': 'user',\n",
       "     'uri': 'spotify:user:spotify'},\n",
       "    'primary_color': '#ffffff',\n",
       "    'public': True,\n",
       "    'snapshot_id': 'Zxj+ugAAAADlHo+uigbRzoMRS37+7LAH',\n",
       "    'tracks': {'href': 'https://api.spotify.com/v1/playlists/37i9dQZF1DWWEJlAGA9gs0/tracks',\n",
       "     'total': 185},\n",
       "    'type': 'playlist',\n",
       "    'uri': 'spotify:playlist:37i9dQZF1DWWEJlAGA9gs0'},\n",
       "   {'collaborative': False,\n",
       "    'description': 'The biggest songs of the 2000s. Cover: The Killers',\n",
       "    'external_urls': {'spotify': 'https://open.spotify.com/playlist/37i9dQZF1DX4o1oenSJRJd'},\n",
       "    'href': 'https://api.spotify.com/v1/playlists/37i9dQZF1DX4o1oenSJRJd',\n",
       "    'id': '37i9dQZF1DX4o1oenSJRJd',\n",
       "    'images': [{'height': None,\n",
       "      'url': 'https://i.scdn.co/image/ab67706f00000002c900fae23e2a3cf42b0e1556',\n",
       "      'width': None}],\n",
       "    'name': 'All Out 2000s',\n",
       "    'owner': {'display_name': 'Spotify',\n",
       "     'external_urls': {'spotify': 'https://open.spotify.com/user/spotify'},\n",
       "     'href': 'https://api.spotify.com/v1/users/spotify',\n",
       "     'id': 'spotify',\n",
       "     'type': 'user',\n",
       "     'uri': 'spotify:user:spotify'},\n",
       "    'primary_color': '#ffffff',\n",
       "    'public': True,\n",
       "    'snapshot_id': 'ZoR4uQAAAAAnL6uYgCyFMpWuRAw2JjIj',\n",
       "    'tracks': {'href': 'https://api.spotify.com/v1/playlists/37i9dQZF1DX4o1oenSJRJd/tracks',\n",
       "     'total': 150},\n",
       "    'type': 'playlist',\n",
       "    'uri': 'spotify:playlist:37i9dQZF1DX4o1oenSJRJd'}],\n",
       "  'limit': 20,\n",
       "  'next': None,\n",
       "  'offset': 80,\n",
       "  'previous': 'https://api.spotify.com/v1/browse/featured-playlists?offset=60&limit=20',\n",
       "  'total': 100}}"
      ]
     },
     "execution_count": 15,
     "metadata": {},
     "output_type": "execute_result"
    }
   ],
   "source": [
    "last_playlists_response = get_featured_playlists(url=URL_FEATURE_PLAYLISTS, access_token=token.get('access_token'), offset=80, limit=20)\n",
    "last_playlists_response"
   ]
  },
  {
   "cell_type": "markdown",
   "metadata": {},
   "source": [
    "You can see that the value of the `next` field is `None`, indicating that you reached the last page. On the other hand, you can see that `previous` contains the URL to request the data from the previous page, so you can even go backward if required."
   ]
  },
  {
   "cell_type": "markdown",
   "metadata": {},
   "source": [
    "<a name='ex02'></a>\n",
    "### Exercise 2\n",
    "\n",
    "Follow the instructions to create a new function that will handle pagination, based on the `get_featured_playlists` function:\n",
    "\n",
    "1. Check the function definition, you have to provide a callable (`endpoint_request`) that corresponds to the function that performs the API call to get the featured playlists.\n",
    "2. Before the `while` loop, create a dictionary named `kwargs` with the following keys:\n",
    "    * `'url'`: the URL to perform the call passed to the function as a parameter.\n",
    "    * `'access_token'`: the access token passed to the function as a parameter. \n",
    "    * `'offset'`: page's offset for the paginated request.\n",
    "    * `'limit'`: maximum number of elements in the page's request.\n",
    "3. Call the `endpoint_request()` function with the keyword arguments that you specified in the `kwargs` dictionary. Assign it to `response`.\n",
    "4. Extend the `responses` list with the playlist's `items` from the `response`.\n",
    "5. Create a variable `total_elements` that hosts the total number of elements from the  `response`. Remember that the `response` has a field named `'playlists'` that has the `'total'` number of elements. If you have any doubt about the response structure, remember to see the [documentation](https://developer.spotify.com/documentation/web-api/reference/get-featured-playlists).\n",
    "6. Run the `while` loop as long as the `offset` value is smaller than `total_elements` variable you defined before.\n",
    "7. Inside the `while` loop do the following steps: \n",
    "   * Update the `offset` value with the current value from the request you did plus the `limit` value.\n",
    "   * Repeat the definition of the `kwargs` dictionary with the same parameters. Note that in this case the `offset` value has been updated.\n",
    "   * Repeat steps 3 and 4.\n",
    "  "
   ]
  },
  {
   "cell_type": "code",
   "execution_count": 21,
   "metadata": {},
   "outputs": [],
   "source": [
    "def paginated_featured_playlists(endpoint_request: Callable, url: str, access_token: str, offset: int=0, limit: int=20) -> list:\n",
    "    \"\"\"Allows to perform pagination over and API request done by the endpoint_request function\n",
    "\n",
    "    Args:\n",
    "        endpoint_request (Callable): Function that performs the API Calls\n",
    "        url (str): Endpoint's URL for the request\n",
    "        access_token (str): Access token\n",
    "        offset (int, optional): Offset of the page's request. Defaults to 0.\n",
    "        limit (int, optional): Limit of the page's request. Defaults to 20.\n",
    "\n",
    "    Returns:\n",
    "        list: List with the requested items\n",
    "    \"\"\"\n",
    "    \n",
    "    responses = []\n",
    "    \n",
    "    ### START CODE HERE ### (~ 19 lines of code)\n",
    "    # Create a dictionary named kwargs with the values corresponding to the keys url, token, offset, limit\n",
    "    kwargs = {         \n",
    "            \"url\": url,\n",
    "            \"access_token\": access_token,\n",
    "            \"offset\": offset,\n",
    "            \"limit\": limit,\n",
    "        } \n",
    "    \n",
    "    # Call the endpoint_request() function with the arguments specified in the kwargs dictionary.\n",
    "    response = endpoint_request(**kwargs)\n",
    "    # Use extend() method to add the playlist's items to the list of responses.\n",
    "    responses.extend(response.get('playlists').get('items'))\n",
    "    # Get the total number of the elements in playlist and save it in the variable total_elements.\n",
    "    total_elements = response.get('playlists').get('total')\n",
    "\n",
    "    # Run the loop as long as the offset value is smaller than total_elements.\n",
    "    while offset < total_elements:\n",
    "        # Update the offset value with the current value from the request you did plus the limit value.\n",
    "        offset = response.get('playlists').get('offset') + limit\n",
    "\n",
    "        # Repeat the definition of the kwargs dictionary with the same parameters (with the new offset value).\n",
    "        kwargs = {             \n",
    "            \"url\": url,\n",
    "            \"access_token\": access_token,\n",
    "            \"offset\": offset,\n",
    "            \"limit\": limit,\n",
    "        }         \n",
    "        # Call the endpoint_request() function with the arguments specified in the kwargs dictionary.\n",
    "        response = endpoint_request(**kwargs)\n",
    "         # Use extend() method to add the playlist's items to the list of responses.\n",
    "        responses.extend(response.get('playlists').get('items'))\n",
    "    ### END CODE HERE ###\n",
    "        \n",
    "        print(f\"Finished iteration for page with offset: {offset-limit}\")\n",
    "\n",
    "    return responses"
   ]
  },
  {
   "cell_type": "markdown",
   "metadata": {},
   "source": [
    "Now, execute the paginated_featured_playlists with the function `get_featured_playlists` as the `endpoint_request` callable parameter. Use the same URL used in the previous `get_featured_playlists` call, as well as the access token. Set the initial `offset` as 0. For the limit, the default value is 20 but you can play with other values if you want."
   ]
  },
  {
   "cell_type": "code",
   "execution_count": 22,
   "metadata": {},
   "outputs": [
    {
     "name": "stdout",
     "output_type": "stream",
     "text": [
      "Finished iteration for page with offset: 0\n",
      "Finished iteration for page with offset: 20\n",
      "Finished iteration for page with offset: 40\n",
      "Finished iteration for page with offset: 60\n",
      "Finished iteration for page with offset: 80\n"
     ]
    }
   ],
   "source": [
    "responses = paginated_featured_playlists(endpoint_request=get_featured_playlists, url=URL_FEATURE_PLAYLISTS, access_token=token.get('access_token'), offset=0, limit=20)"
   ]
  },
  {
   "cell_type": "markdown",
   "metadata": {},
   "source": [
    "##### __Expected Output__ \n",
    "```text\n",
    "Finished iteration for page with offset: 0\n",
    "Finished iteration for page with offset: 20\n",
    "Finished iteration for page with offset: 40\n",
    "Finished iteration for page with offset: 60\n",
    "Finished iteration for page with offset: 80\n",
    "```"
   ]
  },
  {
   "cell_type": "markdown",
   "metadata": {},
   "source": [
    "Have a look at one of the item:"
   ]
  },
  {
   "cell_type": "code",
   "execution_count": 23,
   "metadata": {
    "exercise": [
     "ex02"
    ],
    "tags": [
     "graded"
    ]
   },
   "outputs": [
    {
     "data": {
      "text/plain": [
       "{'collaborative': False,\n",
       " 'description': 'The hottest 50. Cover: ROSÉ & Bruno Mars',\n",
       " 'external_urls': {'spotify': 'https://open.spotify.com/playlist/37i9dQZF1DXcBWIGoYBM5M'},\n",
       " 'href': 'https://api.spotify.com/v1/playlists/37i9dQZF1DXcBWIGoYBM5M',\n",
       " 'id': '37i9dQZF1DXcBWIGoYBM5M',\n",
       " 'images': [{'height': None,\n",
       "   'url': 'https://i.scdn.co/image/ab67706f0000000254300210e0f8fa40dfa35bd4',\n",
       "   'width': None}],\n",
       " 'name': 'Today’s Top Hits',\n",
       " 'owner': {'display_name': 'Spotify',\n",
       "  'external_urls': {'spotify': 'https://open.spotify.com/user/spotify'},\n",
       "  'href': 'https://api.spotify.com/v1/users/spotify',\n",
       "  'id': 'spotify',\n",
       "  'type': 'user',\n",
       "  'uri': 'spotify:user:spotify'},\n",
       " 'primary_color': '#FFFFFF',\n",
       " 'public': True,\n",
       " 'snapshot_id': 'ZxvjXgAAAABJM41CaGY2VJBOFycN2W+k',\n",
       " 'tracks': {'href': 'https://api.spotify.com/v1/playlists/37i9dQZF1DXcBWIGoYBM5M/tracks',\n",
       "  'total': 50},\n",
       " 'type': 'playlist',\n",
       " 'uri': 'spotify:playlist:37i9dQZF1DXcBWIGoYBM5M'}"
      ]
     },
     "execution_count": 23,
     "metadata": {},
     "output_type": "execute_result"
    }
   ],
   "source": [
    "responses[0]"
   ]
  },
  {
   "cell_type": "markdown",
   "metadata": {},
   "source": [
    "You can check the `responses` variable to see if all the elements were downloaded successfully."
   ]
  },
  {
   "cell_type": "code",
   "execution_count": 24,
   "metadata": {},
   "outputs": [
    {
     "data": {
      "text/plain": [
       "100"
      ]
     },
     "execution_count": 24,
     "metadata": {},
     "output_type": "execute_result"
    }
   ],
   "source": [
    "len(responses)"
   ]
  },
  {
   "cell_type": "markdown",
   "metadata": {},
   "source": [
    "With the `paginated_featured_playlists` function that you created, you are now able to get all 100 available items."
   ]
  },
  {
   "cell_type": "markdown",
   "metadata": {},
   "source": [
    "<a name='ex03'></a>\n",
    "### Exercise 3\n",
    "\n",
    "The function `get_featured_playlists` can handle pagination by passing the `offset` and `limit` parameters or only using the `next` parameter. Create another function that uses the `next` parameter to perform the pagination and compare your results from the previous exercise. Follow the instructions below:\n",
    "\n",
    "The dictionary `kwargs` is now defined with the following keys:\n",
    "- `'url'`: the URL to perform the call passed to the function as a parameter.\n",
    "- `'access_token'`: the access token passed to the function as a parameter. \n",
    "- `'next'`: the URL to generate the next request, defined as an empty string for the first call.\n",
    "\n",
    "Inside the `while` loop:\n",
    "1. Call the `endpoint_request()` function with the keyword arguments that you specified in the `kwargs` dictionary. Assign it to `response`.\n",
    "2. Extend the `responses` list with the playlist's `items` from the `response`.\n",
    "3. Reassign the value of `next_page` as the `'next'` value from the `response[\"playlists\"]` dictionary.  If you have any doubt about the response structure, remember to see the [documentation](https://developer.spotify.com/documentation/web-api/reference/get-featured-playlists).\n",
    "4. Update the `kwargs` dictionary: set the value of the key `'next'` as the variable `next_page`."
   ]
  },
  {
   "cell_type": "code",
   "execution_count": 28,
   "metadata": {},
   "outputs": [],
   "source": [
    "def paginated_with_next_featured_playlists(endpoint_request: Callable, url: str, access_token: str) -> list:\n",
    "    \"\"\"Manages pagination for API requests done with the endpoint_request callable\n",
    "\n",
    "    Args:\n",
    "        endpoint_request (Callable): Function that performs API request\n",
    "        url (str): Base URL for the request\n",
    "        access_token (str): Access token\n",
    "\n",
    "    Returns:\n",
    "        list: Responses stored in a list\n",
    "    \"\"\"\n",
    "    responses = []\n",
    "        \n",
    "    next_page = url\n",
    "    \n",
    "    kwargs = {\n",
    "            \"url\": url,\n",
    "            \"access_token\": access_token,\n",
    "            \"next\": \"\"\n",
    "        }\n",
    "    \n",
    "    while next_page:\n",
    "        \n",
    "        ### START CODE HERE ### (~ 4 lines of code)\n",
    "        # Call the endpoint_request() function with the arguments specified in the kwargs dictionary.\n",
    "        response = endpoint_request(**kwargs)\n",
    "        # Use extend() method to add the playlist's items to the list of responses.\n",
    "        responses.extend(response.get('playlists').get('items'))\n",
    "        # Reassign the value of next_page as the 'next' value from the response[\"playlists\"] dictionary.\n",
    "        next_page = response.get('playlists').get('next')\n",
    "        # Update the kwargs dictionary: set the value of the key 'next' as the variable next_page.\n",
    "        kwargs[\"next\"] = next_page\n",
    "        ### END CODE HERE ###\n",
    "        \n",
    "        print(f\"Executed request with URL: {response.get('playlists').get('href')}.\")\n",
    "                \n",
    "    return responses\n",
    "    "
   ]
  },
  {
   "cell_type": "markdown",
   "metadata": {},
   "source": [
    "Now, perform the new paginated call:"
   ]
  },
  {
   "cell_type": "code",
   "execution_count": 29,
   "metadata": {},
   "outputs": [
    {
     "name": "stdout",
     "output_type": "stream",
     "text": [
      "Executed request with URL: https://api.spotify.com/v1/browse/featured-playlists?offset=0&limit=20.\n",
      "Executed request with URL: https://api.spotify.com/v1/browse/featured-playlists?offset=20&limit=20.\n",
      "Executed request with URL: https://api.spotify.com/v1/browse/featured-playlists?offset=40&limit=20.\n",
      "Executed request with URL: https://api.spotify.com/v1/browse/featured-playlists?offset=60&limit=20.\n",
      "Executed request with URL: https://api.spotify.com/v1/browse/featured-playlists?offset=80&limit=20.\n"
     ]
    }
   ],
   "source": [
    "responses_with_next = paginated_with_next_featured_playlists(endpoint_request=get_featured_playlists, url=URL_FEATURE_PLAYLISTS, access_token=token.get('access_token'))"
   ]
  },
  {
   "cell_type": "markdown",
   "metadata": {},
   "source": [
    "Have a look at one of the responses:"
   ]
  },
  {
   "cell_type": "code",
   "execution_count": 30,
   "metadata": {
    "exercise": [
     "ex03"
    ],
    "tags": [
     "graded"
    ]
   },
   "outputs": [
    {
     "data": {
      "text/plain": [
       "{'collaborative': False,\n",
       " 'description': 'The hottest 50. Cover: ROSÉ & Bruno Mars',\n",
       " 'external_urls': {'spotify': 'https://open.spotify.com/playlist/37i9dQZF1DXcBWIGoYBM5M'},\n",
       " 'href': 'https://api.spotify.com/v1/playlists/37i9dQZF1DXcBWIGoYBM5M',\n",
       " 'id': '37i9dQZF1DXcBWIGoYBM5M',\n",
       " 'images': [{'height': None,\n",
       "   'url': 'https://i.scdn.co/image/ab67706f0000000254300210e0f8fa40dfa35bd4',\n",
       "   'width': None}],\n",
       " 'name': 'Today’s Top Hits',\n",
       " 'owner': {'display_name': 'Spotify',\n",
       "  'external_urls': {'spotify': 'https://open.spotify.com/user/spotify'},\n",
       "  'href': 'https://api.spotify.com/v1/users/spotify',\n",
       "  'id': 'spotify',\n",
       "  'type': 'user',\n",
       "  'uri': 'spotify:user:spotify'},\n",
       " 'primary_color': '#FFFFFF',\n",
       " 'public': True,\n",
       " 'snapshot_id': 'ZxvjXgAAAABJM41CaGY2VJBOFycN2W+k',\n",
       " 'tracks': {'href': 'https://api.spotify.com/v1/playlists/37i9dQZF1DXcBWIGoYBM5M/tracks',\n",
       "  'total': 50},\n",
       " 'type': 'playlist',\n",
       " 'uri': 'spotify:playlist:37i9dQZF1DXcBWIGoYBM5M'}"
      ]
     },
     "execution_count": 30,
     "metadata": {},
     "output_type": "execute_result"
    }
   ],
   "source": [
    "responses_with_next[0]"
   ]
  },
  {
   "cell_type": "markdown",
   "metadata": {},
   "source": [
    "<a name='2.4'></a>\n",
    "### 2.4 - Optional - API Rate Limits\n",
    "\n",
    "*Note*: This is an optional section.\n",
    "\n",
    "Another important aspect to take into account when working with APIs is regarding the rate limits. Rate limiting is a mechanism used by APIs to control the number of requests that a client can make within a specified period of time. It helps prevent abuse or overload of the API by limiting the frequency or volume of requests from a single client. Here's how rate limiting typically works:\n",
    "\n",
    "- Request Quotas: APIs may enforce a maximum number of requests that a client can make within a given time window, for example, 100 requests per minute.\n",
    "\n",
    "- Time Windows: The time window specifies the duration over which the request quota is measured. For example, a rate limit of 100 requests per minute means that the client can make up to 100 requests in any 60-second period.\n",
    "\n",
    "- Response to Exceeding Limits: When a client exceeds the rate limit, the API typically responds with an error code (such as 429 Too Many Requests) or a message indicating that the rate limit has been exceeded. This allows clients to adjust their behavior accordingly, such as by implementing [exponential backoff](https://medium.com/bobble-engineering/how-does-exponential-backoff-work-90ef02401c65) and other retry strategies. (Check [here](https://harish-bhattbhatt.medium.com/best-practices-for-retry-pattern-f29d47cd5117) or [here](https://aws.amazon.com/builders-library/timeouts-retries-and-backoff-with-jitter/)). \n",
    "\n",
    "- Rate Limit Headers: APIs may include headers in the response to indicate the client's current rate limit status, such as the number of requests remaining until the limit resets or the time at which the limit will reset.\n",
    "\n",
    "Rate limiting helps maintain the stability and reliability of APIs by ensuring fair access to resources and protecting against abusive or malicious behavior. It also allows API providers to allocate resources more effectively and manage traffic loads more efficiently.\n",
    "\n",
    "You can also see more of the specifics of the rate limits of the Spotify Web API in the [documentation](https://developer.spotify.com/documentation/web-api/concepts/rate-limits). Particularly, this API doesn't enforce a hard limit for the number of requests done but it works dynamically based on the number of calls within a rolling 30 seconds window. You can find some [blogs](https://medium.com/mendix/limiting-your-amount-of-calls-in-mendix-most-of-the-time-rest-835dde55b10e#:~:text=The%20Spotify%20API%20service%20has,for%2060%20requests%20per%20minute) where experiments have been done to identify the average number of requests per minute. \n",
    "\n",
    "Below you are provided with a code that benchmarks the API calls; you can play with the number of requests and the request interval to see the average time of a request. In case you perform too many requests so that you violate the rate limits, you will get a 429 status code.\n",
    "\n",
    "*Note*: This code may take a few minutes to run."
   ]
  },
  {
   "cell_type": "code",
   "execution_count": 31,
   "metadata": {},
   "outputs": [
    {
     "name": "stdout",
     "output_type": "stream",
     "text": [
      "Average time between successful requests: 0.31 seconds\n"
     ]
    }
   ],
   "source": [
    "import time\n",
    "\n",
    "# Define the Spotify API endpoint\n",
    "endpoint = 'https://api.spotify.com/v1/browse/featured-playlists?offset=0&limit=20'\n",
    "\n",
    "headers = get_auth_header(access_token=token.get('access_token'))\n",
    "\n",
    "# Define the number of requests to make\n",
    "num_requests = 200\n",
    "\n",
    "# Define the interval between requests (in seconds)\n",
    "request_interval = 0.1  # Adjust as needed based on the API rate limit\n",
    "\n",
    "# Store the timestamps of successful requests\n",
    "success_timestamps = []\n",
    "\n",
    "# Make repeated requests to the endpoint\n",
    "for i in range(num_requests):\n",
    "    # Make the request\n",
    "    response = requests.get(url=endpoint, headers=headers)\n",
    "    \n",
    "    # Check if the request was successful\n",
    "    if response.status_code == 200:\n",
    "        success_timestamps.append(time.time())\n",
    "    else:        \n",
    "        print(f'Request {i+1}: Failed with code {response.status_code}')\n",
    "    \n",
    "    # Wait for the specified interval before making the next request\n",
    "    time.sleep(request_interval)\n",
    "\n",
    "# Calculate the time between successful requests\n",
    "if len(success_timestamps) > 1:\n",
    "    time_gaps = [success_timestamps[i] - success_timestamps[i-1] for i in range(1, len(success_timestamps))]\n",
    "    print(f'Average time between successful requests: {sum(time_gaps) / len(time_gaps):.2f} seconds')\n",
    "else:\n",
    "    print('At least two successful requests are needed to calculate the time between requests.')"
   ]
  },
  {
   "cell_type": "markdown",
   "metadata": {},
   "source": [
    "<a name='3'></a>\n",
    "## 3 - Batch pipeline\n",
    "\n",
    "Now that you have learned the basics of working with APIs, let's create a pipeline that extracts the track information for the featured playlists. For that, you will use two endpoints:\n",
    "* The same [featured playlists endpoint](https://developer.spotify.com/documentation/web-api/reference/get-featured-playlists) you used in the previous exercises.\n",
    "* The [Get Playlist Items endpoint](https://developer.spotify.com/documentation/web-api/reference/get-playlists-tracks). This endpoint allows you to get tracks information for a given playlist such as track name, album, artists, etc."
   ]
  },
  {
   "cell_type": "markdown",
   "metadata": {},
   "source": [
    "In the `src/` folder, you are given three scripts (`authentication.py`, `endpoint.py` and `main.py`) that will allow you to perform such extraction.\n",
    "- The `endpoint.py` file contains two paginated api calls. The first one `get_paginated_featured_playlists`allows you get the list of featured playlists using the same paginated call you used in the first part. The second one `get_paginated_spotify_playlists` allows you to get the track information for a given playlist using the Get Playlist Items endpoint. \n",
    "- The `authentication.py` file contains the script of the `get_token` function that returns an access token.\n",
    "- The `main.py` file calls the first paginated API call to get the ids of the featured playlists. Then for each playlist id, the second paginated API call is performed to extract the track information for each playlist id. \n",
    "\n",
    "At this moment, the code manages paginated requests but we haven't taken into account that our access token has a limited time, so if your pipeline requests last more than 3600 seconds, you can get a 401 status code error. So the first step is to write a routine that handles token refresh in the `get_paginated_featured_playlists`. Follow the instructions to implement this routine."
   ]
  },
  {
   "cell_type": "markdown",
   "metadata": {},
   "source": [
    "<a name='ex04'></a>\n",
    "### Exercise 4\n",
    "\n",
    "Open the file located at `src/endpoint.py`.\n",
    "\n",
    "Search for the `get_paginated_featured_playlists` function. Create an if condition over the `response.status_code` and compare it with the value 401. This means that if the returned status code is 401 (Unauthorized) you will perform the next steps:\n",
    "- Use the `kwargs` argument that is passed to the `get_paginated_featured_playlists` function; pass it to the `get_token` callable and assign it to a variable named `token_response`.\n",
    "- Create an internal condition in which you will check if the key `\"access_token\"` is in the `token_response` dictionary. If true, you will call the `get_auth_header` function with the corresponding access token and assign the result to the variable `headers`. Note the usage of the `continue` keyword to make sure that the request will be executed again.\n",
    "- If the condition over `\"access_token\"` is false, just return an empty list.\n",
    "\n",
    "Save changes in the file `src/endpoint.py`."
   ]
  },
  {
   "cell_type": "markdown",
   "metadata": {},
   "source": [
    "Now that we know how to refresh the token in case it expires, it's time to continue with the rest of the code. Now that we have the featured playlists, the idea is to extract the tracks that compose each playlist with the following information: \n",
    "\n",
    "* Playlist name and reference URL\n",
    "* Track name and reference URL\n",
    "* Album name and reference URL\n",
    "* Artist name and reference URL\n",
    "\n",
    "To get this information, you will use the [Get Playlist Items endpoint](https://developer.spotify.com/documentation/web-api/reference/get-playlists-tracks). Take a moment to read the documentation and understand how to request data from that particular endpoint. Take a closer look at the `fields` parameter as it will be used for the next part of the pipeline. \n",
    "\n",
    "Open the file at `src/main.py`. There you will see after the call to the `get_paginated_featured_playlists` function that you are extracting the playlists' IDs from the response and saving them into the `playlist_ids` list. Those IDs will be used in the request. Also, search for the following constants: \n",
    "\n",
    "- `URL_PLAYLIST_ITEMS`: The base URL to get information from a particular playlist. Take a look at the documentation, you can see that you will have to complement that URL with the playlist ID and with the `tracks` string to complete the endpoint.\n",
    "- `PLAYLIST_ITEMS_FIELDS`: A string with some fields that will be passed to the particular endpoint through the `fields` parameter. This string specifies what fields should be returned in the response such as the track name and url, album name and url and artist name and url as requested.\n",
    "\n",
    "This information will be passed to the function `get_paginated_spotify_playlist` to construct the full endpoint for the API call. In the next exercise, you will work on completing this function in the file `src/endpoint.py`."
   ]
  },
  {
   "cell_type": "markdown",
   "metadata": {},
   "source": [
    "<a name='ex05'></a>\n",
    "### Exercise 5"
   ]
  },
  {
   "cell_type": "markdown",
   "metadata": {},
   "source": [
    "Go back to the `src/endpoint.py` file. Search for the comment `Exercise 5` and follow the instructions to complete the function `get_paginated_spotify_playlist`.\n",
    "\n",
    "1. The function blueprint for `get_paginated_spotify_playlist` is already provided to you. The first thing you have to do is to call the `get_auth_header` function with the access token and pass it to a variable `headers`. \n",
    "2. Create the `requests_url` by using the `base_url` and `playlist_id` parameters. Notice that the `tracks` are added to the URL endpoint. The `fields` parameter is added to the URL request to filter only the necessary fields for the playlists's items.\n",
    "3. In the `while` loop, perform a GET request using the `request_url` and `headers` that you created in the previous step. Assign the result to `response`.\n",
    "4. Implement the same token refresh routine as before for the `get_paginated_featured_playlists` function.\n",
    "5. After the token refresh, convert the `response` to JSON using the `.json()` method. Assign it to `response_json`.\n",
    "6. Extend the `playlist_data` list with the value from `\"items\"` in `response_json`.\n",
    "7. Update `request_url` with the `\"next\"` value from `response_json`.\n",
    "\n",
    "Save changes in the file `src/endpoint.py`."
   ]
  },
  {
   "cell_type": "markdown",
   "metadata": {},
   "source": [
    "<a name='ex06'></a>\n",
    "### Exercise 6\n",
    "\n",
    "Go back to the `src/main.py` file. Search for the comment `Exercise 6`. Inside the loop that iterates through the `playlists_ids`, there's a call for the `get_paginated_spotify_playlists` function. Follow the instructions to define the following parameters for the given function:\n",
    "- `base_url`: Use the `URL_PLAYLIST_ITEMS` constant defined for you.\n",
    "- `access_token`: Make sure to pass the `\"access_token\"` from the `token` object.\n",
    "- `playlist_id`.\n",
    "- `fields` Use the `PLAYLIST_ITEMS_FIELDS` constant with the fields to be extracted in the request.\n",
    "- `get_token`: pass the same `get_token` function.\n",
    "- Finally, pass the `kwargs` dictionary defined at the start of the `main()` function.\n",
    "\n",
    "The function response will be assigned to the variable `playlist_data`.\n",
    "\n",
    "Save changes in the file `src/main.py`."
   ]
  },
  {
   "cell_type": "markdown",
   "metadata": {},
   "source": [
    "Inside the same for loop, the response `playlist_data` is added to the `playlists_items` dictionary, using the corresponding playlist id as key. Finally, after iterating through all playlists, you can see that the dictionary `playlists_items` is saved to a JSON file in the local environment. Take a look at the format of the filename, which takes into account the current date time to avoid collision with other files."
   ]
  },
  {
   "cell_type": "markdown",
   "metadata": {},
   "source": [
    "Run the following commands in Jupyter or Cloud9 terminal to run the `main.py` script:"
   ]
  },
  {
   "cell_type": "markdown",
   "metadata": {},
   "source": [
    "```bash\n",
    "cd ~/environment\n",
    "source jupyterlab-venv/bin/activate\n",
    "cd src\n",
    "python main.py\n",
    "```"
   ]
  },
  {
   "cell_type": "markdown",
   "metadata": {},
   "source": [
    "*Notes*: \n",
    "- The first command ensures that you're in the root folder (environment). This is to ensure that you successfully run the second command. \n",
    "- To open the Jupyter Notebook terminal, click on File -> New -> Terminal\n",
    "<img src=\"images/JupyterTerminal.png\"  width=\"500\"/>"
   ]
  },
  {
   "cell_type": "markdown",
   "metadata": {},
   "source": [
    "Once the script is finished, you should be able to see a file named `playlist_items_<DATETIME>.json` in the folder `src`."
   ]
  },
  {
   "cell_type": "markdown",
   "metadata": {},
   "source": [
    "<a name='4'></a>\n",
    "## 4 - Optional - Spotipy SDK\n",
    "\n",
    "In several cases, the API developers also provide a Software Development Kit (SDK) to connect and perform requests to the different endpoints of the API without the necessity of creating the code from scratch. For Spotify Web API they developed the [Spotipy SDK](https://spotipy.readthedocs.io/en/2.22.1/) to do it. Let's see an example of how it will work to replicate the extraction of data from the featured playlists endpoint in a paginated way."
   ]
  },
  {
   "cell_type": "code",
   "execution_count": null,
   "metadata": {},
   "outputs": [],
   "source": [
    "import spotipy\n",
    "from spotipy.oauth2 import SpotifyClientCredentials"
   ]
  },
  {
   "cell_type": "code",
   "execution_count": null,
   "metadata": {},
   "outputs": [],
   "source": [
    "credentials = SpotifyClientCredentials(\n",
    "        client_id=CLIENT_ID, client_secret=CLIENT_SECRET\n",
    "    )\n",
    "\n",
    "spotify = spotipy.Spotify(client_credentials_manager=credentials)"
   ]
  },
  {
   "cell_type": "markdown",
   "metadata": {},
   "source": [
    "You can see that the `credentials` object handles the authentication process and contains the token to be used in later requests.\n",
    "\n",
    "*Note*: Please ignore the `DeprecationWarning` message if you see an access token in the output."
   ]
  },
  {
   "cell_type": "code",
   "execution_count": null,
   "metadata": {},
   "outputs": [],
   "source": [
    "credentials.get_access_token()"
   ]
  },
  {
   "cell_type": "markdown",
   "metadata": {},
   "source": [
    "Let's get data from the featured playlists, as you did in the previous example:"
   ]
  },
  {
   "cell_type": "code",
   "execution_count": null,
   "metadata": {},
   "outputs": [],
   "source": [
    "limit = 20\n",
    "response = spotify.featured_playlists(limit=limit)\n",
    "response"
   ]
  },
  {
   "cell_type": "markdown",
   "metadata": {},
   "source": [
    "You can also paginate through these responses. If you check the documentation of the [`featured_playlist` method](https://spotipy.readthedocs.io/en/2.22.1/?highlight=featured_playlists#spotipy.client.Spotify.featured_playlists), you can see that you can specify the parameter `offset`, as you previously did. "
   ]
  },
  {
   "cell_type": "markdown",
   "metadata": {},
   "source": [
    "<a name='ex07'></a>\n",
    "### Exercise 7\n",
    "\n",
    "Let's perform a paginated request with the SDK. We can then check the results of this paginated request against the total number of elements we saw in the previous exercises, which would be 100. Follow the instructions to finish the code to perform paginated requests.\n",
    "\n",
    "1. Extend the `playlist_data` list with the `items` from the `playlists` key in the previous `response`.\n",
    "2. Get the `total` number of elements from the response and assign it to the variable `total_playlists_elements`.\n",
    "3. Create a list of offset indexes. As you already have the data from the first call, your starting offset index should be the `limit` value that you used to make the first request. The list should finish at `total_playlists_elements` and the pace should be the same `limit` value. Save it into `offset_idx`.\n",
    "4. Start the pagination: iterate over each index in `offset_idx`. In `response_page`, assign the response from the request to the `featured_playlists` method using the corresponding offset index and limit.\n",
    "5. Extend again the `playlist_data` with the playlist `items` that you get in the `response_page`.\n",
    "\n",
    "You can visually inspect the values in the `playlist_data` and make sure the list length is the same as the total number of elements that are available to request."
   ]
  },
  {
   "cell_type": "code",
   "execution_count": null,
   "metadata": {
    "exercise": [
     "ex07"
    ],
    "tags": [
     "graded"
    ]
   },
   "outputs": [],
   "source": [
    "def paginated_feature_playlists_sdk(limit: int=20) -> list:\n",
    "\n",
    "    playlist_data = []\n",
    "    ### START CODE HERE ### (~ 6 lines of code)\n",
    "    playlist_data.None(None.None('None').None('None'))\n",
    "    total_playlists_elements = None.None('None').None('None')\n",
    "    offset_idx = list(range(None, None, limit))\n",
    "\n",
    "    for idx in offset_idx:         \n",
    "        response_page = spotify.None(limit=None, offset=None)\n",
    "        playlist_data.None(None.None('None').None('None'))\n",
    "    ### END CODE HERE ###\n",
    "    return playlist_data\n",
    "    \n",
    "playlist_data_sdk = paginated_feature_playlists_sdk()\n",
    "playlist_data_sdk[0]"
   ]
  },
  {
   "cell_type": "code",
   "execution_count": null,
   "metadata": {},
   "outputs": [],
   "source": [
    "len(playlist_data_sdk)"
   ]
  },
  {
   "cell_type": "markdown",
   "metadata": {},
   "source": [
    "In this lab you learned the basics of ingesting data from the API. You worked with authentication process and pagination in a manual way as well as using an API SDK."
   ]
  },
  {
   "cell_type": "markdown",
   "metadata": {},
   "source": [
    "<a name='5'></a>\n",
    "## 5 - Upload the Files for Grading\n",
    "Run the following cell to upload the notebook and Python files `./src/main.py`, `./src/endpoint.py` into S3 bucket for grading purposes.\n",
    "\n",
    "*Note*: you may need to click **Save** button before the upload."
   ]
  },
  {
   "cell_type": "code",
   "execution_count": 32,
   "metadata": {},
   "outputs": [
    {
     "name": "stdout",
     "output_type": "stream",
     "text": [
      "upload: ./C2_W2_Assignment.ipynb to s3://de-c2w2a1-211125565607-us-east-1-submission/C2_W2_Assignment_Learner.ipynb\n",
      "upload: src/main.py to s3://de-c2w2a1-211125565607-us-east-1-submission/src/main_learner.py\n",
      "upload: src/endpoint.py to s3://de-c2w2a1-211125565607-us-east-1-submission/src/endpoint_learner.py\n"
     ]
    }
   ],
   "source": [
    "# Retrieve the AWS account ID\n",
    "result = subprocess.run(['aws', 'sts', 'get-caller-identity', '--query', 'Account', '--output', 'text'], capture_output=True, text=True)\n",
    "AWS_ACCOUNT_ID = result.stdout.strip()\n",
    "\n",
    "SUBMISSION_BUCKET = f\"de-c2w2a1-{AWS_ACCOUNT_ID}-us-east-1-submission\"\n",
    "\n",
    "!aws s3 cp ~/environment/C2_W2_Assignment.ipynb s3://$SUBMISSION_BUCKET/C2_W2_Assignment_Learner.ipynb\n",
    "!aws s3 cp ~/environment/src/main.py s3://$SUBMISSION_BUCKET/src/main_learner.py\n",
    "!aws s3 cp ~/environment/src/endpoint.py s3://$SUBMISSION_BUCKET/src/endpoint_learner.py"
   ]
  },
  {
   "cell_type": "code",
   "execution_count": null,
   "metadata": {},
   "outputs": [],
   "source": []
  }
 ],
 "metadata": {
  "kernelspec": {
   "display_name": "Python 3 (ipykernel)",
   "language": "python",
   "name": "python3"
  },
  "language_info": {
   "codemirror_mode": {
    "name": "ipython",
    "version": 3
   },
   "file_extension": ".py",
   "mimetype": "text/x-python",
   "name": "python",
   "nbconvert_exporter": "python",
   "pygments_lexer": "ipython3",
   "version": "3.9.16"
  }
 },
 "nbformat": 4,
 "nbformat_minor": 4
}
